{
  "nbformat": 4,
  "nbformat_minor": 0,
  "metadata": {
    "colab": {
      "name": "Project 2.ipynb",
      "provenance": [],
      "mount_file_id": "1hJ8Sr2fLlNYRPXd1uNTHUelB-RirPjU8",
      "authorship_tag": "ABX9TyMjVsVk0s8k8/OKpqS7tOXD",
      "include_colab_link": true
    },
    "kernelspec": {
      "name": "python3",
      "display_name": "Python 3"
    },
    "language_info": {
      "name": "python"
    }
  },
  "cells": [
    {
      "cell_type": "markdown",
      "metadata": {
        "id": "view-in-github",
        "colab_type": "text"
      },
      "source": [
        "<a href=\"https://colab.research.google.com/github/SeanRommes/Project-2/blob/main/Project_2.ipynb\" target=\"_parent\"><img src=\"https://colab.research.google.com/assets/colab-badge.svg\" alt=\"Open In Colab\"/></a>"
      ]
    },
    {
      "cell_type": "markdown",
      "source": [
        "Heart Failure Prediction (Project 2)\n",
        "\n",
        "Sean Rommes"
      ],
      "metadata": {
        "id": "rOQ2G3sh49BC"
      }
    },
    {
      "cell_type": "markdown",
      "source": [
        "# Heart Failure Prediction Dataset\n",
        "11 clinical features for predicting heart disease events.\n"
      ],
      "metadata": {
        "id": "wiBZtVQH5An2"
      }
    },
    {
      "cell_type": "markdown",
      "source": [
        "##Source: https://www.kaggle.com/datasets/fedesoriano/heart-failure-prediction"
      ],
      "metadata": {
        "id": "YZ1jJBpt6rLX"
      }
    },
    {
      "cell_type": "markdown",
      "source": [
        "## Description"
      ],
      "metadata": {
        "id": "nkCQUa6c7WYi"
      }
    },
    {
      "cell_type": "markdown",
      "source": [
        "This dataset was created by combining different datasets already available independently but not combined before. In this dataset, 5 heart datasets are combined over 11 common features which makes it the largest heart disease dataset available so far for research purposes. The five datasets used for its curation are:\n",
        "\n",
        "Cleveland: 303 observations\n",
        "Hungarian: 294 observations\n",
        "Switzerland: 123 observations\n",
        "Long Beach VA: 200 observations\n",
        "Stalog (Heart) Data Set: 270 observations\n",
        "Total: 1190 observations\n",
        "Duplicated: 272 observations\n",
        "\n",
        "Final dataset: 918 observations\n",
        "\n",
        "Every dataset used can be found under the Index of heart disease datasets from UCI Machine Learning Repository on the following link: https://archive.ics.uci.edu/ml/machine-learning-databases/heart-disease/"
      ],
      "metadata": {
        "id": "LzMuMb4uGau0"
      }
    },
    {
      "cell_type": "markdown",
      "source": [
        "## The Data"
      ],
      "metadata": {
        "id": "L8f1A-AV7157"
      }
    },
    {
      "cell_type": "markdown",
      "source": [
        "This DataSet is a classification problem which has 918 rows, 12 columns, and 11 features. My target will be if a person has heart disease or not. I see 5 categorical features which I will have to onehot encode. I'll check for any missing values, duplicated rows, and ensure all the columns are consistent with their types. Before I begin my ML models i'll check which features have the highest correlations to my target using a heat map, anything below .3 I'll drop before instantiating the train test split. The data is a little but small and biased towards middle aged individuals"
      ],
      "metadata": {
        "id": "CwZjSnKW9-s_"
      }
    },
    {
      "cell_type": "code",
      "source": [
        "#imports\n",
        "\n",
        "import pandas as pd\n",
        "import numpy as np\n",
        "import matplotlib.pyplot as plt\n",
        "import seaborn as sns\n",
        "import scipy.stats as stats\n",
        "from sklearn.model_selection import train_test_split, GridSearchCV\n",
        "from sklearn.preprocessing import StandardScaler, OneHotEncoder, PolynomialFeatures\n",
        "from sklearn.compose import make_column_selector, make_column_transformer\n",
        "from sklearn.pipeline import make_pipeline\n",
        "from sklearn.dummy import DummyRegressor\n",
        "from sklearn.metrics import mean_squared_error, mean_absolute_error, r2_score\n",
        "from sklearn.tree import DecisionTreeRegressor\n",
        "from sklearn.ensemble import RandomForestRegressor\n",
        "from sklearn.linear_model import LinearRegression\n",
        "from sklearn.neighbors import KNeighborsRegressor\n",
        "from sklearn.decomposition import PCA\n",
        "from sklearn.tree import plot_tree\n",
        "from sklearn import set_config\n",
        "set_config(display='diagram')"
      ],
      "metadata": {
        "id": "rTblfJbO7wWe"
      },
      "execution_count": 307,
      "outputs": []
    },
    {
      "cell_type": "code",
      "source": [
        "df = pd.read_csv('/content/drive/MyDrive/Coding Dojo Course Work/Week 7: Logistic Regression and Regularization/True Heart.csv')\n",
        "df.head()"
      ],
      "metadata": {
        "colab": {
          "base_uri": "https://localhost:8080/",
          "height": 0
        },
        "id": "cA51tDYc8B04",
        "outputId": "530aebb0-9a1a-4032-86ef-b8850e264996"
      },
      "execution_count": 308,
      "outputs": [
        {
          "output_type": "execute_result",
          "data": {
            "text/plain": [
              "   Age Sex ChestPainType  RestingBP  Cholesterol  FastingBS RestingECG  MaxHR  \\\n",
              "0   40   M           ATA        140          289          0     Normal    172   \n",
              "1   49   F           NAP        160          180          0     Normal    156   \n",
              "2   37   M           ATA        130          283          0         ST     98   \n",
              "3   48   F           ASY        138          214          0     Normal    108   \n",
              "4   54   M           NAP        150          195          0     Normal    122   \n",
              "\n",
              "  ExerciseAngina  Oldpeak ST_Slope  HeartDisease  \n",
              "0              N      0.0       Up             0  \n",
              "1              N      1.0     Flat             1  \n",
              "2              N      0.0       Up             0  \n",
              "3              Y      1.5     Flat             1  \n",
              "4              N      0.0       Up             0  "
            ],
            "text/html": [
              "\n",
              "  <div id=\"df-8603238b-47cb-4c3f-b259-12473c404e3e\">\n",
              "    <div class=\"colab-df-container\">\n",
              "      <div>\n",
              "<style scoped>\n",
              "    .dataframe tbody tr th:only-of-type {\n",
              "        vertical-align: middle;\n",
              "    }\n",
              "\n",
              "    .dataframe tbody tr th {\n",
              "        vertical-align: top;\n",
              "    }\n",
              "\n",
              "    .dataframe thead th {\n",
              "        text-align: right;\n",
              "    }\n",
              "</style>\n",
              "<table border=\"1\" class=\"dataframe\">\n",
              "  <thead>\n",
              "    <tr style=\"text-align: right;\">\n",
              "      <th></th>\n",
              "      <th>Age</th>\n",
              "      <th>Sex</th>\n",
              "      <th>ChestPainType</th>\n",
              "      <th>RestingBP</th>\n",
              "      <th>Cholesterol</th>\n",
              "      <th>FastingBS</th>\n",
              "      <th>RestingECG</th>\n",
              "      <th>MaxHR</th>\n",
              "      <th>ExerciseAngina</th>\n",
              "      <th>Oldpeak</th>\n",
              "      <th>ST_Slope</th>\n",
              "      <th>HeartDisease</th>\n",
              "    </tr>\n",
              "  </thead>\n",
              "  <tbody>\n",
              "    <tr>\n",
              "      <th>0</th>\n",
              "      <td>40</td>\n",
              "      <td>M</td>\n",
              "      <td>ATA</td>\n",
              "      <td>140</td>\n",
              "      <td>289</td>\n",
              "      <td>0</td>\n",
              "      <td>Normal</td>\n",
              "      <td>172</td>\n",
              "      <td>N</td>\n",
              "      <td>0.0</td>\n",
              "      <td>Up</td>\n",
              "      <td>0</td>\n",
              "    </tr>\n",
              "    <tr>\n",
              "      <th>1</th>\n",
              "      <td>49</td>\n",
              "      <td>F</td>\n",
              "      <td>NAP</td>\n",
              "      <td>160</td>\n",
              "      <td>180</td>\n",
              "      <td>0</td>\n",
              "      <td>Normal</td>\n",
              "      <td>156</td>\n",
              "      <td>N</td>\n",
              "      <td>1.0</td>\n",
              "      <td>Flat</td>\n",
              "      <td>1</td>\n",
              "    </tr>\n",
              "    <tr>\n",
              "      <th>2</th>\n",
              "      <td>37</td>\n",
              "      <td>M</td>\n",
              "      <td>ATA</td>\n",
              "      <td>130</td>\n",
              "      <td>283</td>\n",
              "      <td>0</td>\n",
              "      <td>ST</td>\n",
              "      <td>98</td>\n",
              "      <td>N</td>\n",
              "      <td>0.0</td>\n",
              "      <td>Up</td>\n",
              "      <td>0</td>\n",
              "    </tr>\n",
              "    <tr>\n",
              "      <th>3</th>\n",
              "      <td>48</td>\n",
              "      <td>F</td>\n",
              "      <td>ASY</td>\n",
              "      <td>138</td>\n",
              "      <td>214</td>\n",
              "      <td>0</td>\n",
              "      <td>Normal</td>\n",
              "      <td>108</td>\n",
              "      <td>Y</td>\n",
              "      <td>1.5</td>\n",
              "      <td>Flat</td>\n",
              "      <td>1</td>\n",
              "    </tr>\n",
              "    <tr>\n",
              "      <th>4</th>\n",
              "      <td>54</td>\n",
              "      <td>M</td>\n",
              "      <td>NAP</td>\n",
              "      <td>150</td>\n",
              "      <td>195</td>\n",
              "      <td>0</td>\n",
              "      <td>Normal</td>\n",
              "      <td>122</td>\n",
              "      <td>N</td>\n",
              "      <td>0.0</td>\n",
              "      <td>Up</td>\n",
              "      <td>0</td>\n",
              "    </tr>\n",
              "  </tbody>\n",
              "</table>\n",
              "</div>\n",
              "      <button class=\"colab-df-convert\" onclick=\"convertToInteractive('df-8603238b-47cb-4c3f-b259-12473c404e3e')\"\n",
              "              title=\"Convert this dataframe to an interactive table.\"\n",
              "              style=\"display:none;\">\n",
              "        \n",
              "  <svg xmlns=\"http://www.w3.org/2000/svg\" height=\"24px\"viewBox=\"0 0 24 24\"\n",
              "       width=\"24px\">\n",
              "    <path d=\"M0 0h24v24H0V0z\" fill=\"none\"/>\n",
              "    <path d=\"M18.56 5.44l.94 2.06.94-2.06 2.06-.94-2.06-.94-.94-2.06-.94 2.06-2.06.94zm-11 1L8.5 8.5l.94-2.06 2.06-.94-2.06-.94L8.5 2.5l-.94 2.06-2.06.94zm10 10l.94 2.06.94-2.06 2.06-.94-2.06-.94-.94-2.06-.94 2.06-2.06.94z\"/><path d=\"M17.41 7.96l-1.37-1.37c-.4-.4-.92-.59-1.43-.59-.52 0-1.04.2-1.43.59L10.3 9.45l-7.72 7.72c-.78.78-.78 2.05 0 2.83L4 21.41c.39.39.9.59 1.41.59.51 0 1.02-.2 1.41-.59l7.78-7.78 2.81-2.81c.8-.78.8-2.07 0-2.86zM5.41 20L4 18.59l7.72-7.72 1.47 1.35L5.41 20z\"/>\n",
              "  </svg>\n",
              "      </button>\n",
              "      \n",
              "  <style>\n",
              "    .colab-df-container {\n",
              "      display:flex;\n",
              "      flex-wrap:wrap;\n",
              "      gap: 12px;\n",
              "    }\n",
              "\n",
              "    .colab-df-convert {\n",
              "      background-color: #E8F0FE;\n",
              "      border: none;\n",
              "      border-radius: 50%;\n",
              "      cursor: pointer;\n",
              "      display: none;\n",
              "      fill: #1967D2;\n",
              "      height: 32px;\n",
              "      padding: 0 0 0 0;\n",
              "      width: 32px;\n",
              "    }\n",
              "\n",
              "    .colab-df-convert:hover {\n",
              "      background-color: #E2EBFA;\n",
              "      box-shadow: 0px 1px 2px rgba(60, 64, 67, 0.3), 0px 1px 3px 1px rgba(60, 64, 67, 0.15);\n",
              "      fill: #174EA6;\n",
              "    }\n",
              "\n",
              "    [theme=dark] .colab-df-convert {\n",
              "      background-color: #3B4455;\n",
              "      fill: #D2E3FC;\n",
              "    }\n",
              "\n",
              "    [theme=dark] .colab-df-convert:hover {\n",
              "      background-color: #434B5C;\n",
              "      box-shadow: 0px 1px 3px 1px rgba(0, 0, 0, 0.15);\n",
              "      filter: drop-shadow(0px 1px 2px rgba(0, 0, 0, 0.3));\n",
              "      fill: #FFFFFF;\n",
              "    }\n",
              "  </style>\n",
              "\n",
              "      <script>\n",
              "        const buttonEl =\n",
              "          document.querySelector('#df-8603238b-47cb-4c3f-b259-12473c404e3e button.colab-df-convert');\n",
              "        buttonEl.style.display =\n",
              "          google.colab.kernel.accessAllowed ? 'block' : 'none';\n",
              "\n",
              "        async function convertToInteractive(key) {\n",
              "          const element = document.querySelector('#df-8603238b-47cb-4c3f-b259-12473c404e3e');\n",
              "          const dataTable =\n",
              "            await google.colab.kernel.invokeFunction('convertToInteractive',\n",
              "                                                     [key], {});\n",
              "          if (!dataTable) return;\n",
              "\n",
              "          const docLinkHtml = 'Like what you see? Visit the ' +\n",
              "            '<a target=\"_blank\" href=https://colab.research.google.com/notebooks/data_table.ipynb>data table notebook</a>'\n",
              "            + ' to learn more about interactive tables.';\n",
              "          element.innerHTML = '';\n",
              "          dataTable['output_type'] = 'display_data';\n",
              "          await google.colab.output.renderOutput(dataTable, element);\n",
              "          const docLink = document.createElement('div');\n",
              "          docLink.innerHTML = docLinkHtml;\n",
              "          element.appendChild(docLink);\n",
              "        }\n",
              "      </script>\n",
              "    </div>\n",
              "  </div>\n",
              "  "
            ]
          },
          "metadata": {},
          "execution_count": 308
        }
      ]
    },
    {
      "cell_type": "code",
      "source": [
        "#getting number of rows and columns\n",
        "\n",
        "df.shape"
      ],
      "metadata": {
        "colab": {
          "base_uri": "https://localhost:8080/"
        },
        "id": "N4tK44uy8KNt",
        "outputId": "d1d1ef93-0298-4778-f4e0-b53d1c12bf15"
      },
      "execution_count": 309,
      "outputs": [
        {
          "output_type": "execute_result",
          "data": {
            "text/plain": [
              "(918, 12)"
            ]
          },
          "metadata": {},
          "execution_count": 309
        }
      ]
    },
    {
      "cell_type": "markdown",
      "source": [
        "# Cleaning the data"
      ],
      "metadata": {
        "id": "9G7n0dx9Gr7V"
      }
    },
    {
      "cell_type": "code",
      "source": [
        "#getting an overview of types, searching for inconsistencies\n",
        "\n",
        "df.info()"
      ],
      "metadata": {
        "colab": {
          "base_uri": "https://localhost:8080/"
        },
        "id": "FjWwC3fdGkdQ",
        "outputId": "490e8ed3-46b3-4757-fd18-43a8d69dd201"
      },
      "execution_count": 310,
      "outputs": [
        {
          "output_type": "stream",
          "name": "stdout",
          "text": [
            "<class 'pandas.core.frame.DataFrame'>\n",
            "RangeIndex: 918 entries, 0 to 917\n",
            "Data columns (total 12 columns):\n",
            " #   Column          Non-Null Count  Dtype  \n",
            "---  ------          --------------  -----  \n",
            " 0   Age             918 non-null    int64  \n",
            " 1   Sex             918 non-null    object \n",
            " 2   ChestPainType   918 non-null    object \n",
            " 3   RestingBP       918 non-null    int64  \n",
            " 4   Cholesterol     918 non-null    int64  \n",
            " 5   FastingBS       918 non-null    int64  \n",
            " 6   RestingECG      918 non-null    object \n",
            " 7   MaxHR           918 non-null    int64  \n",
            " 8   ExerciseAngina  918 non-null    object \n",
            " 9   Oldpeak         918 non-null    float64\n",
            " 10  ST_Slope        918 non-null    object \n",
            " 11  HeartDisease    918 non-null    int64  \n",
            "dtypes: float64(1), int64(6), object(5)\n",
            "memory usage: 86.2+ KB\n"
          ]
        }
      ]
    },
    {
      "cell_type": "code",
      "source": [
        "# getting statistical values to search for unusual data points\n",
        "\n",
        "df.describe()"
      ],
      "metadata": {
        "colab": {
          "base_uri": "https://localhost:8080/",
          "height": 0
        },
        "id": "wmR21eYXGz2r",
        "outputId": "343b53b9-a15f-4b2b-b1f6-139f515d1e5e"
      },
      "execution_count": 311,
      "outputs": [
        {
          "output_type": "execute_result",
          "data": {
            "text/plain": [
              "              Age   RestingBP  Cholesterol   FastingBS       MaxHR  \\\n",
              "count  918.000000  918.000000   918.000000  918.000000  918.000000   \n",
              "mean    53.510893  132.396514   198.799564    0.233115  136.809368   \n",
              "std      9.432617   18.514154   109.384145    0.423046   25.460334   \n",
              "min     28.000000    0.000000     0.000000    0.000000   60.000000   \n",
              "25%     47.000000  120.000000   173.250000    0.000000  120.000000   \n",
              "50%     54.000000  130.000000   223.000000    0.000000  138.000000   \n",
              "75%     60.000000  140.000000   267.000000    0.000000  156.000000   \n",
              "max     77.000000  200.000000   603.000000    1.000000  202.000000   \n",
              "\n",
              "          Oldpeak  HeartDisease  \n",
              "count  918.000000    918.000000  \n",
              "mean     0.887364      0.553377  \n",
              "std      1.066570      0.497414  \n",
              "min     -2.600000      0.000000  \n",
              "25%      0.000000      0.000000  \n",
              "50%      0.600000      1.000000  \n",
              "75%      1.500000      1.000000  \n",
              "max      6.200000      1.000000  "
            ],
            "text/html": [
              "\n",
              "  <div id=\"df-426de160-6be8-4084-bb5b-57dcf5c6acb8\">\n",
              "    <div class=\"colab-df-container\">\n",
              "      <div>\n",
              "<style scoped>\n",
              "    .dataframe tbody tr th:only-of-type {\n",
              "        vertical-align: middle;\n",
              "    }\n",
              "\n",
              "    .dataframe tbody tr th {\n",
              "        vertical-align: top;\n",
              "    }\n",
              "\n",
              "    .dataframe thead th {\n",
              "        text-align: right;\n",
              "    }\n",
              "</style>\n",
              "<table border=\"1\" class=\"dataframe\">\n",
              "  <thead>\n",
              "    <tr style=\"text-align: right;\">\n",
              "      <th></th>\n",
              "      <th>Age</th>\n",
              "      <th>RestingBP</th>\n",
              "      <th>Cholesterol</th>\n",
              "      <th>FastingBS</th>\n",
              "      <th>MaxHR</th>\n",
              "      <th>Oldpeak</th>\n",
              "      <th>HeartDisease</th>\n",
              "    </tr>\n",
              "  </thead>\n",
              "  <tbody>\n",
              "    <tr>\n",
              "      <th>count</th>\n",
              "      <td>918.000000</td>\n",
              "      <td>918.000000</td>\n",
              "      <td>918.000000</td>\n",
              "      <td>918.000000</td>\n",
              "      <td>918.000000</td>\n",
              "      <td>918.000000</td>\n",
              "      <td>918.000000</td>\n",
              "    </tr>\n",
              "    <tr>\n",
              "      <th>mean</th>\n",
              "      <td>53.510893</td>\n",
              "      <td>132.396514</td>\n",
              "      <td>198.799564</td>\n",
              "      <td>0.233115</td>\n",
              "      <td>136.809368</td>\n",
              "      <td>0.887364</td>\n",
              "      <td>0.553377</td>\n",
              "    </tr>\n",
              "    <tr>\n",
              "      <th>std</th>\n",
              "      <td>9.432617</td>\n",
              "      <td>18.514154</td>\n",
              "      <td>109.384145</td>\n",
              "      <td>0.423046</td>\n",
              "      <td>25.460334</td>\n",
              "      <td>1.066570</td>\n",
              "      <td>0.497414</td>\n",
              "    </tr>\n",
              "    <tr>\n",
              "      <th>min</th>\n",
              "      <td>28.000000</td>\n",
              "      <td>0.000000</td>\n",
              "      <td>0.000000</td>\n",
              "      <td>0.000000</td>\n",
              "      <td>60.000000</td>\n",
              "      <td>-2.600000</td>\n",
              "      <td>0.000000</td>\n",
              "    </tr>\n",
              "    <tr>\n",
              "      <th>25%</th>\n",
              "      <td>47.000000</td>\n",
              "      <td>120.000000</td>\n",
              "      <td>173.250000</td>\n",
              "      <td>0.000000</td>\n",
              "      <td>120.000000</td>\n",
              "      <td>0.000000</td>\n",
              "      <td>0.000000</td>\n",
              "    </tr>\n",
              "    <tr>\n",
              "      <th>50%</th>\n",
              "      <td>54.000000</td>\n",
              "      <td>130.000000</td>\n",
              "      <td>223.000000</td>\n",
              "      <td>0.000000</td>\n",
              "      <td>138.000000</td>\n",
              "      <td>0.600000</td>\n",
              "      <td>1.000000</td>\n",
              "    </tr>\n",
              "    <tr>\n",
              "      <th>75%</th>\n",
              "      <td>60.000000</td>\n",
              "      <td>140.000000</td>\n",
              "      <td>267.000000</td>\n",
              "      <td>0.000000</td>\n",
              "      <td>156.000000</td>\n",
              "      <td>1.500000</td>\n",
              "      <td>1.000000</td>\n",
              "    </tr>\n",
              "    <tr>\n",
              "      <th>max</th>\n",
              "      <td>77.000000</td>\n",
              "      <td>200.000000</td>\n",
              "      <td>603.000000</td>\n",
              "      <td>1.000000</td>\n",
              "      <td>202.000000</td>\n",
              "      <td>6.200000</td>\n",
              "      <td>1.000000</td>\n",
              "    </tr>\n",
              "  </tbody>\n",
              "</table>\n",
              "</div>\n",
              "      <button class=\"colab-df-convert\" onclick=\"convertToInteractive('df-426de160-6be8-4084-bb5b-57dcf5c6acb8')\"\n",
              "              title=\"Convert this dataframe to an interactive table.\"\n",
              "              style=\"display:none;\">\n",
              "        \n",
              "  <svg xmlns=\"http://www.w3.org/2000/svg\" height=\"24px\"viewBox=\"0 0 24 24\"\n",
              "       width=\"24px\">\n",
              "    <path d=\"M0 0h24v24H0V0z\" fill=\"none\"/>\n",
              "    <path d=\"M18.56 5.44l.94 2.06.94-2.06 2.06-.94-2.06-.94-.94-2.06-.94 2.06-2.06.94zm-11 1L8.5 8.5l.94-2.06 2.06-.94-2.06-.94L8.5 2.5l-.94 2.06-2.06.94zm10 10l.94 2.06.94-2.06 2.06-.94-2.06-.94-.94-2.06-.94 2.06-2.06.94z\"/><path d=\"M17.41 7.96l-1.37-1.37c-.4-.4-.92-.59-1.43-.59-.52 0-1.04.2-1.43.59L10.3 9.45l-7.72 7.72c-.78.78-.78 2.05 0 2.83L4 21.41c.39.39.9.59 1.41.59.51 0 1.02-.2 1.41-.59l7.78-7.78 2.81-2.81c.8-.78.8-2.07 0-2.86zM5.41 20L4 18.59l7.72-7.72 1.47 1.35L5.41 20z\"/>\n",
              "  </svg>\n",
              "      </button>\n",
              "      \n",
              "  <style>\n",
              "    .colab-df-container {\n",
              "      display:flex;\n",
              "      flex-wrap:wrap;\n",
              "      gap: 12px;\n",
              "    }\n",
              "\n",
              "    .colab-df-convert {\n",
              "      background-color: #E8F0FE;\n",
              "      border: none;\n",
              "      border-radius: 50%;\n",
              "      cursor: pointer;\n",
              "      display: none;\n",
              "      fill: #1967D2;\n",
              "      height: 32px;\n",
              "      padding: 0 0 0 0;\n",
              "      width: 32px;\n",
              "    }\n",
              "\n",
              "    .colab-df-convert:hover {\n",
              "      background-color: #E2EBFA;\n",
              "      box-shadow: 0px 1px 2px rgba(60, 64, 67, 0.3), 0px 1px 3px 1px rgba(60, 64, 67, 0.15);\n",
              "      fill: #174EA6;\n",
              "    }\n",
              "\n",
              "    [theme=dark] .colab-df-convert {\n",
              "      background-color: #3B4455;\n",
              "      fill: #D2E3FC;\n",
              "    }\n",
              "\n",
              "    [theme=dark] .colab-df-convert:hover {\n",
              "      background-color: #434B5C;\n",
              "      box-shadow: 0px 1px 3px 1px rgba(0, 0, 0, 0.15);\n",
              "      filter: drop-shadow(0px 1px 2px rgba(0, 0, 0, 0.3));\n",
              "      fill: #FFFFFF;\n",
              "    }\n",
              "  </style>\n",
              "\n",
              "      <script>\n",
              "        const buttonEl =\n",
              "          document.querySelector('#df-426de160-6be8-4084-bb5b-57dcf5c6acb8 button.colab-df-convert');\n",
              "        buttonEl.style.display =\n",
              "          google.colab.kernel.accessAllowed ? 'block' : 'none';\n",
              "\n",
              "        async function convertToInteractive(key) {\n",
              "          const element = document.querySelector('#df-426de160-6be8-4084-bb5b-57dcf5c6acb8');\n",
              "          const dataTable =\n",
              "            await google.colab.kernel.invokeFunction('convertToInteractive',\n",
              "                                                     [key], {});\n",
              "          if (!dataTable) return;\n",
              "\n",
              "          const docLinkHtml = 'Like what you see? Visit the ' +\n",
              "            '<a target=\"_blank\" href=https://colab.research.google.com/notebooks/data_table.ipynb>data table notebook</a>'\n",
              "            + ' to learn more about interactive tables.';\n",
              "          element.innerHTML = '';\n",
              "          dataTable['output_type'] = 'display_data';\n",
              "          await google.colab.output.renderOutput(dataTable, element);\n",
              "          const docLink = document.createElement('div');\n",
              "          docLink.innerHTML = docLinkHtml;\n",
              "          element.appendChild(docLink);\n",
              "        }\n",
              "      </script>\n",
              "    </div>\n",
              "  </div>\n",
              "  "
            ]
          },
          "metadata": {},
          "execution_count": 311
        }
      ]
    },
    {
      "cell_type": "markdown",
      "source": [
        "I see some unusual values, resting bp with a min value at 0 stands out to me, i'll check all the 0 min values just to be sure."
      ],
      "metadata": {
        "id": "KCZd1MyjH8s4"
      }
    },
    {
      "cell_type": "code",
      "source": [
        "#checking missing values\n",
        "\n",
        "df.isna().sum()"
      ],
      "metadata": {
        "id": "w7Q4jQU39Su5",
        "colab": {
          "base_uri": "https://localhost:8080/"
        },
        "outputId": "f475c7a6-fd8b-4e4b-d953-318da43ac406"
      },
      "execution_count": 312,
      "outputs": [
        {
          "output_type": "execute_result",
          "data": {
            "text/plain": [
              "Age               0\n",
              "Sex               0\n",
              "ChestPainType     0\n",
              "RestingBP         0\n",
              "Cholesterol       0\n",
              "FastingBS         0\n",
              "RestingECG        0\n",
              "MaxHR             0\n",
              "ExerciseAngina    0\n",
              "Oldpeak           0\n",
              "ST_Slope          0\n",
              "HeartDisease      0\n",
              "dtype: int64"
            ]
          },
          "metadata": {},
          "execution_count": 312
        }
      ]
    },
    {
      "cell_type": "code",
      "source": [
        "#checking number of unique values\n",
        "\n",
        "df.nunique()"
      ],
      "metadata": {
        "id": "vMVdMTu4DxqP",
        "colab": {
          "base_uri": "https://localhost:8080/"
        },
        "outputId": "dd0470a7-fd1f-4f63-c140-a3917ec642c8"
      },
      "execution_count": 313,
      "outputs": [
        {
          "output_type": "execute_result",
          "data": {
            "text/plain": [
              "Age                50\n",
              "Sex                 2\n",
              "ChestPainType       4\n",
              "RestingBP          67\n",
              "Cholesterol       222\n",
              "FastingBS           2\n",
              "RestingECG          3\n",
              "MaxHR             119\n",
              "ExerciseAngina      2\n",
              "Oldpeak            53\n",
              "ST_Slope            3\n",
              "HeartDisease        2\n",
              "dtype: int64"
            ]
          },
          "metadata": {},
          "execution_count": 313
        }
      ]
    },
    {
      "cell_type": "code",
      "source": [
        "# checking for duplicates\n",
        "\n",
        "df.duplicated().sum()"
      ],
      "metadata": {
        "colab": {
          "base_uri": "https://localhost:8080/"
        },
        "id": "Szl1Gv8MGYRl",
        "outputId": "c093a190-ee8c-44fc-9df9-734440196b22"
      },
      "execution_count": 314,
      "outputs": [
        {
          "output_type": "execute_result",
          "data": {
            "text/plain": [
              "0"
            ]
          },
          "metadata": {},
          "execution_count": 314
        }
      ]
    },
    {
      "cell_type": "code",
      "source": [
        "# checking how much people had heart disease\n",
        "# The data set is fairly well split with 56% of people having heart disease and 44% without.\n",
        "df['HeartDisease'].value_counts()"
      ],
      "metadata": {
        "colab": {
          "base_uri": "https://localhost:8080/"
        },
        "id": "-uURPeyFzVO4",
        "outputId": "2c336ed8-accb-4e10-9155-b9787b60b4e3"
      },
      "execution_count": 315,
      "outputs": [
        {
          "output_type": "execute_result",
          "data": {
            "text/plain": [
              "1    508\n",
              "0    410\n",
              "Name: HeartDisease, dtype: int64"
            ]
          },
          "metadata": {},
          "execution_count": 315
        }
      ]
    },
    {
      "cell_type": "code",
      "source": [
        "#checking for odd values in age\n",
        "\n",
        "df['Age'].value_counts()"
      ],
      "metadata": {
        "colab": {
          "base_uri": "https://localhost:8080/"
        },
        "id": "QzTabCWHHq2L",
        "outputId": "6396be2a-0208-470d-91c8-3fc96865f2b2"
      },
      "execution_count": 316,
      "outputs": [
        {
          "output_type": "execute_result",
          "data": {
            "text/plain": [
              "54    51\n",
              "58    42\n",
              "55    41\n",
              "56    38\n",
              "57    38\n",
              "52    36\n",
              "51    35\n",
              "59    35\n",
              "62    35\n",
              "53    33\n",
              "60    32\n",
              "48    31\n",
              "61    31\n",
              "63    30\n",
              "50    25\n",
              "46    24\n",
              "41    24\n",
              "43    24\n",
              "64    22\n",
              "65    21\n",
              "49    21\n",
              "47    19\n",
              "44    19\n",
              "42    18\n",
              "45    18\n",
              "38    16\n",
              "67    15\n",
              "39    15\n",
              "66    13\n",
              "69    13\n",
              "40    13\n",
              "35    11\n",
              "37    11\n",
              "68    10\n",
              "34     7\n",
              "74     7\n",
              "70     7\n",
              "36     6\n",
              "71     5\n",
              "32     5\n",
              "72     4\n",
              "29     3\n",
              "75     3\n",
              "33     2\n",
              "77     2\n",
              "76     2\n",
              "31     2\n",
              "30     1\n",
              "28     1\n",
              "73     1\n",
              "Name: Age, dtype: int64"
            ]
          },
          "metadata": {},
          "execution_count": 316
        }
      ]
    },
    {
      "cell_type": "code",
      "source": [
        "df['Sex'].value_counts()"
      ],
      "metadata": {
        "colab": {
          "base_uri": "https://localhost:8080/"
        },
        "id": "xIQFvLTGl8WG",
        "outputId": "834df757-fb68-4114-ad96-c98ea176ec4f"
      },
      "execution_count": 317,
      "outputs": [
        {
          "output_type": "execute_result",
          "data": {
            "text/plain": [
              "M    725\n",
              "F    193\n",
              "Name: Sex, dtype: int64"
            ]
          },
          "metadata": {},
          "execution_count": 317
        }
      ]
    },
    {
      "cell_type": "code",
      "source": [
        "#checking resting bp for abnormalities\n",
        "\n",
        "df['RestingBP'].value_counts()"
      ],
      "metadata": {
        "colab": {
          "base_uri": "https://localhost:8080/"
        },
        "id": "GCDpFCzeKQUI",
        "outputId": "5e2f2ae1-fbab-418f-9c7a-b6b5fb0b2efa"
      },
      "execution_count": 318,
      "outputs": [
        {
          "output_type": "execute_result",
          "data": {
            "text/plain": [
              "120    132\n",
              "130    118\n",
              "140    107\n",
              "110     58\n",
              "150     55\n",
              "      ... \n",
              "185      1\n",
              "98       1\n",
              "92       1\n",
              "113      1\n",
              "164      1\n",
              "Name: RestingBP, Length: 67, dtype: int64"
            ]
          },
          "metadata": {},
          "execution_count": 318
        }
      ]
    },
    {
      "cell_type": "code",
      "source": [
        "# looking into 0 value for bp as mentioned earlier, one result.\n",
        "\n",
        "RBP = df['RestingBP'] == 0\n",
        "RBP.sum()"
      ],
      "metadata": {
        "colab": {
          "base_uri": "https://localhost:8080/"
        },
        "id": "jUlOxcrfKedz",
        "outputId": "dd198ff7-77e3-4822-ff34-7598fca54c24"
      },
      "execution_count": 319,
      "outputs": [
        {
          "output_type": "execute_result",
          "data": {
            "text/plain": [
              "1"
            ]
          },
          "metadata": {},
          "execution_count": 319
        }
      ]
    },
    {
      "cell_type": "code",
      "source": [
        "# checking cholesterol. I find it odd that 172 people had a cholesterol level of 0.\n",
        "# 0 cholesterol isnt impossible but I do find it unlikely for so many people.\n",
        "\n",
        "df['Cholesterol'].value_counts()"
      ],
      "metadata": {
        "colab": {
          "base_uri": "https://localhost:8080/"
        },
        "id": "Dqb8GBdKLQ7N",
        "outputId": "cbfa82e3-2e55-4405-85be-089b156b57d7"
      },
      "execution_count": 320,
      "outputs": [
        {
          "output_type": "execute_result",
          "data": {
            "text/plain": [
              "0      172\n",
              "254     11\n",
              "223     10\n",
              "220     10\n",
              "230      9\n",
              "      ... \n",
              "392      1\n",
              "316      1\n",
              "153      1\n",
              "466      1\n",
              "131      1\n",
              "Name: Cholesterol, Length: 222, dtype: int64"
            ]
          },
          "metadata": {},
          "execution_count": 320
        }
      ]
    },
    {
      "cell_type": "code",
      "source": [
        "# checking values, TA: Typical Angina, ATA: Atypical Angina, NAP: Non-Anginal Pain, ASY: Asymptomatic\n",
        "\n",
        "df['ChestPainType'].value_counts()"
      ],
      "metadata": {
        "colab": {
          "base_uri": "https://localhost:8080/"
        },
        "id": "F38HAlS0Isef",
        "outputId": "22aad61a-7f46-4ec0-d9b2-edd0796f51f9"
      },
      "execution_count": 321,
      "outputs": [
        {
          "output_type": "execute_result",
          "data": {
            "text/plain": [
              "ASY    496\n",
              "NAP    203\n",
              "ATA    173\n",
              "TA      46\n",
              "Name: ChestPainType, dtype: int64"
            ]
          },
          "metadata": {},
          "execution_count": 321
        }
      ]
    },
    {
      "cell_type": "code",
      "source": [
        "# checking fasting blood sugar column, looks like true or false values, does this mean that blood sugar levels were tested during fasting? or is this an error?\n",
        "# data index reveals that this column is checking if fasting blood sugar is > 120 mg/dl  (1 = true; 0 = false)\n",
        "\n",
        "df['FastingBS'].value_counts()"
      ],
      "metadata": {
        "colab": {
          "base_uri": "https://localhost:8080/"
        },
        "id": "CJyuL_8FMu5p",
        "outputId": "06ea164a-d78e-4a4e-e5ef-e589c2bdd38f"
      },
      "execution_count": 322,
      "outputs": [
        {
          "output_type": "execute_result",
          "data": {
            "text/plain": [
              "0    704\n",
              "1    214\n",
              "Name: FastingBS, dtype: int64"
            ]
          },
          "metadata": {},
          "execution_count": 322
        }
      ]
    },
    {
      "cell_type": "code",
      "source": [
        "# lvh is defined as left ventriclular hypertrophy and st as strain\n",
        "\n",
        "df['RestingECG'].value_counts()"
      ],
      "metadata": {
        "colab": {
          "base_uri": "https://localhost:8080/"
        },
        "id": "zSfEZzbYJZ0l",
        "outputId": "78de714a-d974-40ba-cf17-6846cff03e1c"
      },
      "execution_count": 323,
      "outputs": [
        {
          "output_type": "execute_result",
          "data": {
            "text/plain": [
              "Normal    552\n",
              "LVH       188\n",
              "ST        178\n",
              "Name: RestingECG, dtype: int64"
            ]
          },
          "metadata": {},
          "execution_count": 323
        }
      ]
    },
    {
      "cell_type": "code",
      "source": [
        "# I didnt see any unusual values in max heart rate, but checking anyway.\n",
        "\n",
        "df['MaxHR'].value_counts()"
      ],
      "metadata": {
        "colab": {
          "base_uri": "https://localhost:8080/"
        },
        "id": "0K62LPtmPrlL",
        "outputId": "54c580aa-b35c-4215-d945-e942f8fff427"
      },
      "execution_count": 324,
      "outputs": [
        {
          "output_type": "execute_result",
          "data": {
            "text/plain": [
              "150    43\n",
              "140    41\n",
              "120    36\n",
              "130    33\n",
              "160    25\n",
              "       ..\n",
              "63      1\n",
              "83      1\n",
              "60      1\n",
              "78      1\n",
              "202     1\n",
              "Name: MaxHR, Length: 119, dtype: int64"
            ]
          },
          "metadata": {},
          "execution_count": 324
        }
      ]
    },
    {
      "cell_type": "markdown",
      "source": [
        "Max heartrate is measured using 220 minus your age. The lowest age in the dataset is 28 wich would mean 220 - 28 would put the highest max hr at 192. the highest age is 77, which would put the lowest max hr at 143. 202 or age 28 is a mistake as a max hr of 202 would put a person at the age of 18, which isnt present in this dataset. I'm going to keep the ages the same and consider changing all the invalid max hr outliers in this dataset to correspond to their appropriate values. However there maybe other factors in those people im not aware of that could make those outliers valid."
      ],
      "metadata": {
        "id": "aqyfJvdDRUZJ"
      }
    },
    {
      "cell_type": "markdown",
      "source": [
        "There are definitly some outliers in this column, particularly around the low end. I cant consider anything above 120 an outlier as there are multiple values, but all these single ones are definintly my outliers and i'm not sure if those are accurate or not based off my research alone, or if there are other medical factors involved with those people."
      ],
      "metadata": {
        "id": "1QF_SCFpDpRs"
      }
    },
    {
      "cell_type": "code",
      "source": [
        "#oldpeak defined as ST(strain) depression induced by exercise relative to rest, i'm not sure how to interpret the negative values and will leave those alone,there's alot of 0's here as well, they might be missing values in disguise\n",
        "# or just no reaction. i'll leave those the same for now.\n",
        "\n",
        "df['Oldpeak'].value_counts()"
      ],
      "metadata": {
        "colab": {
          "base_uri": "https://localhost:8080/"
        },
        "id": "joBB8I-1SvSR",
        "outputId": "032b8e71-ff41-40f7-fe12-09108223b073"
      },
      "execution_count": 325,
      "outputs": [
        {
          "output_type": "execute_result",
          "data": {
            "text/plain": [
              " 0.0    368\n",
              " 1.0     86\n",
              " 2.0     76\n",
              " 1.5     53\n",
              " 3.0     28\n",
              " 1.2     26\n",
              " 0.2     22\n",
              " 0.5     19\n",
              " 1.4     18\n",
              " 1.8     17\n",
              " 2.5     16\n",
              " 0.8     16\n",
              " 1.6     16\n",
              " 0.1     14\n",
              " 0.6     14\n",
              " 0.4     11\n",
              " 0.3     11\n",
              " 4.0      8\n",
              " 0.7      7\n",
              " 2.8      7\n",
              " 1.9      7\n",
              " 1.3      7\n",
              " 2.6      7\n",
              " 1.1      7\n",
              " 1.7      6\n",
              " 2.2      5\n",
              " 0.9      4\n",
              " 2.4      4\n",
              " 3.6      4\n",
              " 3.4      3\n",
              " 4.2      2\n",
              " 3.5      2\n",
              "-0.5      2\n",
              " 2.3      2\n",
              " 3.2      2\n",
              " 2.1      2\n",
              "-1.0      2\n",
              "-0.1      2\n",
              " 5.6      1\n",
              " 2.9      1\n",
              " 6.2      1\n",
              " 3.8      1\n",
              "-1.5      1\n",
              " 3.1      1\n",
              "-2.0      1\n",
              " 3.7      1\n",
              "-0.8      1\n",
              "-0.7      1\n",
              "-1.1      1\n",
              "-2.6      1\n",
              "-0.9      1\n",
              " 5.0      1\n",
              " 4.4      1\n",
              "Name: Oldpeak, dtype: int64"
            ]
          },
          "metadata": {},
          "execution_count": 325
        }
      ]
    },
    {
      "cell_type": "code",
      "source": [
        "# checking for unusual values in strain slope\n",
        "\n",
        "df['ST_Slope'].value_counts()"
      ],
      "metadata": {
        "colab": {
          "base_uri": "https://localhost:8080/"
        },
        "id": "PYW0GItkbBAe",
        "outputId": "5ff1e9bb-49db-4277-b8c6-1515266b142d"
      },
      "execution_count": 326,
      "outputs": [
        {
          "output_type": "execute_result",
          "data": {
            "text/plain": [
              "Flat    460\n",
              "Up      395\n",
              "Down     63\n",
              "Name: ST_Slope, dtype: int64"
            ]
          },
          "metadata": {},
          "execution_count": 326
        }
      ]
    },
    {
      "cell_type": "markdown",
      "source": [
        "#Visualizations"
      ],
      "metadata": {
        "id": "miMe4jEKp6gu"
      }
    },
    {
      "cell_type": "markdown",
      "source": [
        "##Outliers"
      ],
      "metadata": {
        "id": "K7dlenoDBf6c"
      }
    },
    {
      "cell_type": "code",
      "source": [
        "#Getting an overview of my outliers\n",
        "\n",
        "plt.figure(figsize=(20,7))\n",
        "sns.boxplot(data= df);\n"
      ],
      "metadata": {
        "colab": {
          "base_uri": "https://localhost:8080/",
          "height": 0
        },
        "id": "BfVrsW8qrPKm",
        "outputId": "1b66bc32-4821-428c-e345-85fd4764b638"
      },
      "execution_count": 327,
      "outputs": [
        {
          "output_type": "display_data",
          "data": {
            "text/plain": [
              "<Figure size 1440x504 with 1 Axes>"
            ],
            "image/png": "[encoded data removed]"
          },
          "metadata": {
            "needs_background": "light"
          }
        }
      ]
    },
    {
      "cell_type": "markdown",
      "source": [
        "Most people in the data set are in their 50's with outliers ranging between 28 and 77. There's not alot of outliers below 100 for resting blood pressure, most lie above 200. Majority of the outliers have less than 200 cholesterol in the data set. 105 people in the data set had a cholesterol above 300 while 322 people had levels lower than 200 as portayed by the below code. This would place the remaining 491 individuals within the mean range. As mentioned before fasting bp in the dataset is just 1 or 0, was it above 120 mg/dl or not.\n",
        "\n",
        "Max heart rate averaged around 136. The younger individuals would conisist of the outliers above 175. The below groupby has some interesting insights, most notabely being a 51 year old with a max hr of 60, sadly they had heart disease. The values for oldpeak are incredibly small and range from -2.6 to 6 most had an old peak of 0 or just slighty above 0. Heart disease in this graph is just 1 or 0 did they have it or not, so no outliers there. \n",
        "\n",
        "The other columns that are not present here are categorical columns and therfore wont have any numerical outliers to examine."
      ],
      "metadata": {
        "id": "CYEc6hEJyAAD"
      }
    },
    {
      "cell_type": "code",
      "source": [
        "# comparing my outliers in cholesetrol for explanatory purposes\n",
        "\n",
        "cholA = df['Cholesterol'] >= 300\n",
        "cholB = df['Cholesterol'] <=200\n",
        "print(cholA.sum())\n",
        "print(cholB.sum())"
      ],
      "metadata": {
        "colab": {
          "base_uri": "https://localhost:8080/"
        },
        "id": "lrXR52jN0P99",
        "outputId": "c84dcc74-2fde-4d70-8511-e40027e4a0e3"
      },
      "execution_count": 328,
      "outputs": [
        {
          "output_type": "stream",
          "name": "stdout",
          "text": [
            "105\n",
            "322\n"
          ]
        }
      ]
    },
    {
      "cell_type": "code",
      "source": [
        "#grouping age and whether or not they had heart disease by max hr to supoort my outliers boxplot\n",
        "\n",
        "df.groupby(['MaxHR'])[['Age','HeartDisease','Cholesterol','Oldpeak']].quantile()"
      ],
      "metadata": {
        "colab": {
          "base_uri": "https://localhost:8080/",
          "height": 0
        },
        "id": "rVPV35ye4318",
        "outputId": "efcaa136-f323-47b8-8ff7-ef18b24b74e3"
      },
      "execution_count": 329,
      "outputs": [
        {
          "output_type": "execute_result",
          "data": {
            "text/plain": [
              "        Age  HeartDisease  Cholesterol  Oldpeak\n",
              "MaxHR                                          \n",
              "60     51.0           1.0          0.0      0.0\n",
              "63     60.0           1.0          0.0      0.5\n",
              "67     65.0           1.0          0.0      0.7\n",
              "69     58.0           0.0        458.0      1.0\n",
              "70     61.0           1.0          0.0      0.0\n",
              "...     ...           ...          ...      ...\n",
              "190    43.0           0.0        173.5      0.0\n",
              "192    34.0           0.0        210.0      0.7\n",
              "194    42.0           0.0        240.0      0.8\n",
              "195    54.0           1.0        283.0      0.0\n",
              "202    29.0           0.0        204.0      0.0\n",
              "\n",
              "[119 rows x 4 columns]"
            ],
            "text/html": [
              "\n",
              "  <div id=\"df-1748d557-8b7c-4f46-82e9-17880baebf02\">\n",
              "    <div class=\"colab-df-container\">\n",
              "      <div>\n",
              "<style scoped>\n",
              "    .dataframe tbody tr th:only-of-type {\n",
              "        vertical-align: middle;\n",
              "    }\n",
              "\n",
              "    .dataframe tbody tr th {\n",
              "        vertical-align: top;\n",
              "    }\n",
              "\n",
              "    .dataframe thead th {\n",
              "        text-align: right;\n",
              "    }\n",
              "</style>\n",
              "<table border=\"1\" class=\"dataframe\">\n",
              "  <thead>\n",
              "    <tr style=\"text-align: right;\">\n",
              "      <th></th>\n",
              "      <th>Age</th>\n",
              "      <th>HeartDisease</th>\n",
              "      <th>Cholesterol</th>\n",
              "      <th>Oldpeak</th>\n",
              "    </tr>\n",
              "    <tr>\n",
              "      <th>MaxHR</th>\n",
              "      <th></th>\n",
              "      <th></th>\n",
              "      <th></th>\n",
              "      <th></th>\n",
              "    </tr>\n",
              "  </thead>\n",
              "  <tbody>\n",
              "    <tr>\n",
              "      <th>60</th>\n",
              "      <td>51.0</td>\n",
              "      <td>1.0</td>\n",
              "      <td>0.0</td>\n",
              "      <td>0.0</td>\n",
              "    </tr>\n",
              "    <tr>\n",
              "      <th>63</th>\n",
              "      <td>60.0</td>\n",
              "      <td>1.0</td>\n",
              "      <td>0.0</td>\n",
              "      <td>0.5</td>\n",
              "    </tr>\n",
              "    <tr>\n",
              "      <th>67</th>\n",
              "      <td>65.0</td>\n",
              "      <td>1.0</td>\n",
              "      <td>0.0</td>\n",
              "      <td>0.7</td>\n",
              "    </tr>\n",
              "    <tr>\n",
              "      <th>69</th>\n",
              "      <td>58.0</td>\n",
              "      <td>0.0</td>\n",
              "      <td>458.0</td>\n",
              "      <td>1.0</td>\n",
              "    </tr>\n",
              "    <tr>\n",
              "      <th>70</th>\n",
              "      <td>61.0</td>\n",
              "      <td>1.0</td>\n",
              "      <td>0.0</td>\n",
              "      <td>0.0</td>\n",
              "    </tr>\n",
              "    <tr>\n",
              "      <th>...</th>\n",
              "      <td>...</td>\n",
              "      <td>...</td>\n",
              "      <td>...</td>\n",
              "      <td>...</td>\n",
              "    </tr>\n",
              "    <tr>\n",
              "      <th>190</th>\n",
              "      <td>43.0</td>\n",
              "      <td>0.0</td>\n",
              "      <td>173.5</td>\n",
              "      <td>0.0</td>\n",
              "    </tr>\n",
              "    <tr>\n",
              "      <th>192</th>\n",
              "      <td>34.0</td>\n",
              "      <td>0.0</td>\n",
              "      <td>210.0</td>\n",
              "      <td>0.7</td>\n",
              "    </tr>\n",
              "    <tr>\n",
              "      <th>194</th>\n",
              "      <td>42.0</td>\n",
              "      <td>0.0</td>\n",
              "      <td>240.0</td>\n",
              "      <td>0.8</td>\n",
              "    </tr>\n",
              "    <tr>\n",
              "      <th>195</th>\n",
              "      <td>54.0</td>\n",
              "      <td>1.0</td>\n",
              "      <td>283.0</td>\n",
              "      <td>0.0</td>\n",
              "    </tr>\n",
              "    <tr>\n",
              "      <th>202</th>\n",
              "      <td>29.0</td>\n",
              "      <td>0.0</td>\n",
              "      <td>204.0</td>\n",
              "      <td>0.0</td>\n",
              "    </tr>\n",
              "  </tbody>\n",
              "</table>\n",
              "<p>119 rows × 4 columns</p>\n",
              "</div>\n",
              "      <button class=\"colab-df-convert\" onclick=\"convertToInteractive('df-1748d557-8b7c-4f46-82e9-17880baebf02')\"\n",
              "              title=\"Convert this dataframe to an interactive table.\"\n",
              "              style=\"display:none;\">\n",
              "        \n",
              "  <svg xmlns=\"http://www.w3.org/2000/svg\" height=\"24px\"viewBox=\"0 0 24 24\"\n",
              "       width=\"24px\">\n",
              "    <path d=\"M0 0h24v24H0V0z\" fill=\"none\"/>\n",
              "    <path d=\"M18.56 5.44l.94 2.06.94-2.06 2.06-.94-2.06-.94-.94-2.06-.94 2.06-2.06.94zm-11 1L8.5 8.5l.94-2.06 2.06-.94-2.06-.94L8.5 2.5l-.94 2.06-2.06.94zm10 10l.94 2.06.94-2.06 2.06-.94-2.06-.94-.94-2.06-.94 2.06-2.06.94z\"/><path d=\"M17.41 7.96l-1.37-1.37c-.4-.4-.92-.59-1.43-.59-.52 0-1.04.2-1.43.59L10.3 9.45l-7.72 7.72c-.78.78-.78 2.05 0 2.83L4 21.41c.39.39.9.59 1.41.59.51 0 1.02-.2 1.41-.59l7.78-7.78 2.81-2.81c.8-.78.8-2.07 0-2.86zM5.41 20L4 18.59l7.72-7.72 1.47 1.35L5.41 20z\"/>\n",
              "  </svg>\n",
              "      </button>\n",
              "      \n",
              "  <style>\n",
              "    .colab-df-container {\n",
              "      display:flex;\n",
              "      flex-wrap:wrap;\n",
              "      gap: 12px;\n",
              "    }\n",
              "\n",
              "    .colab-df-convert {\n",
              "      background-color: #E8F0FE;\n",
              "      border: none;\n",
              "      border-radius: 50%;\n",
              "      cursor: pointer;\n",
              "      display: none;\n",
              "      fill: #1967D2;\n",
              "      height: 32px;\n",
              "      padding: 0 0 0 0;\n",
              "      width: 32px;\n",
              "    }\n",
              "\n",
              "    .colab-df-convert:hover {\n",
              "      background-color: #E2EBFA;\n",
              "      box-shadow: 0px 1px 2px rgba(60, 64, 67, 0.3), 0px 1px 3px 1px rgba(60, 64, 67, 0.15);\n",
              "      fill: #174EA6;\n",
              "    }\n",
              "\n",
              "    [theme=dark] .colab-df-convert {\n",
              "      background-color: #3B4455;\n",
              "      fill: #D2E3FC;\n",
              "    }\n",
              "\n",
              "    [theme=dark] .colab-df-convert:hover {\n",
              "      background-color: #434B5C;\n",
              "      box-shadow: 0px 1px 3px 1px rgba(0, 0, 0, 0.15);\n",
              "      filter: drop-shadow(0px 1px 2px rgba(0, 0, 0, 0.3));\n",
              "      fill: #FFFFFF;\n",
              "    }\n",
              "  </style>\n",
              "\n",
              "      <script>\n",
              "        const buttonEl =\n",
              "          document.querySelector('#df-1748d557-8b7c-4f46-82e9-17880baebf02 button.colab-df-convert');\n",
              "        buttonEl.style.display =\n",
              "          google.colab.kernel.accessAllowed ? 'block' : 'none';\n",
              "\n",
              "        async function convertToInteractive(key) {\n",
              "          const element = document.querySelector('#df-1748d557-8b7c-4f46-82e9-17880baebf02');\n",
              "          const dataTable =\n",
              "            await google.colab.kernel.invokeFunction('convertToInteractive',\n",
              "                                                     [key], {});\n",
              "          if (!dataTable) return;\n",
              "\n",
              "          const docLinkHtml = 'Like what you see? Visit the ' +\n",
              "            '<a target=\"_blank\" href=https://colab.research.google.com/notebooks/data_table.ipynb>data table notebook</a>'\n",
              "            + ' to learn more about interactive tables.';\n",
              "          element.innerHTML = '';\n",
              "          dataTable['output_type'] = 'display_data';\n",
              "          await google.colab.output.renderOutput(dataTable, element);\n",
              "          const docLink = document.createElement('div');\n",
              "          docLink.innerHTML = docLinkHtml;\n",
              "          element.appendChild(docLink);\n",
              "        }\n",
              "      </script>\n",
              "    </div>\n",
              "  </div>\n",
              "  "
            ]
          },
          "metadata": {},
          "execution_count": 329
        }
      ]
    },
    {
      "cell_type": "markdown",
      "source": [
        "Expanding on the heat map (way)below showing the correlate factors, you can see here that a person can have 0 cholesterol( or at least it wasnt tested) and still be unhealthy and have heart diease (Actually you can still be healthy and get heart disease, but its alot less likely). I cant help but wonder what else was going on with the first person on this groupby."
      ],
      "metadata": {
        "id": "sc4fGBA29SDk"
      }
    },
    {
      "cell_type": "code",
      "source": [
        "# I used this to help me get my values for the analysis of my boxplot\n",
        "\n",
        "df.describe()"
      ],
      "metadata": {
        "colab": {
          "base_uri": "https://localhost:8080/",
          "height": 0
        },
        "id": "nkHpZXGnw5XB",
        "outputId": "94d54cb4-2e6c-4ebf-912b-1f210c30c511"
      },
      "execution_count": 330,
      "outputs": [
        {
          "output_type": "execute_result",
          "data": {
            "text/plain": [
              "              Age   RestingBP  Cholesterol   FastingBS       MaxHR  \\\n",
              "count  918.000000  918.000000   918.000000  918.000000  918.000000   \n",
              "mean    53.510893  132.396514   198.799564    0.233115  136.809368   \n",
              "std      9.432617   18.514154   109.384145    0.423046   25.460334   \n",
              "min     28.000000    0.000000     0.000000    0.000000   60.000000   \n",
              "25%     47.000000  120.000000   173.250000    0.000000  120.000000   \n",
              "50%     54.000000  130.000000   223.000000    0.000000  138.000000   \n",
              "75%     60.000000  140.000000   267.000000    0.000000  156.000000   \n",
              "max     77.000000  200.000000   603.000000    1.000000  202.000000   \n",
              "\n",
              "          Oldpeak  HeartDisease  \n",
              "count  918.000000    918.000000  \n",
              "mean     0.887364      0.553377  \n",
              "std      1.066570      0.497414  \n",
              "min     -2.600000      0.000000  \n",
              "25%      0.000000      0.000000  \n",
              "50%      0.600000      1.000000  \n",
              "75%      1.500000      1.000000  \n",
              "max      6.200000      1.000000  "
            ],
            "text/html": [
              "\n",
              "  <div id=\"df-653a8777-0ad0-4056-9c5c-b44abd15fcc2\">\n",
              "    <div class=\"colab-df-container\">\n",
              "      <div>\n",
              "<style scoped>\n",
              "    .dataframe tbody tr th:only-of-type {\n",
              "        vertical-align: middle;\n",
              "    }\n",
              "\n",
              "    .dataframe tbody tr th {\n",
              "        vertical-align: top;\n",
              "    }\n",
              "\n",
              "    .dataframe thead th {\n",
              "        text-align: right;\n",
              "    }\n",
              "</style>\n",
              "<table border=\"1\" class=\"dataframe\">\n",
              "  <thead>\n",
              "    <tr style=\"text-align: right;\">\n",
              "      <th></th>\n",
              "      <th>Age</th>\n",
              "      <th>RestingBP</th>\n",
              "      <th>Cholesterol</th>\n",
              "      <th>FastingBS</th>\n",
              "      <th>MaxHR</th>\n",
              "      <th>Oldpeak</th>\n",
              "      <th>HeartDisease</th>\n",
              "    </tr>\n",
              "  </thead>\n",
              "  <tbody>\n",
              "    <tr>\n",
              "      <th>count</th>\n",
              "      <td>918.000000</td>\n",
              "      <td>918.000000</td>\n",
              "      <td>918.000000</td>\n",
              "      <td>918.000000</td>\n",
              "      <td>918.000000</td>\n",
              "      <td>918.000000</td>\n",
              "      <td>918.000000</td>\n",
              "    </tr>\n",
              "    <tr>\n",
              "      <th>mean</th>\n",
              "      <td>53.510893</td>\n",
              "      <td>132.396514</td>\n",
              "      <td>198.799564</td>\n",
              "      <td>0.233115</td>\n",
              "      <td>136.809368</td>\n",
              "      <td>0.887364</td>\n",
              "      <td>0.553377</td>\n",
              "    </tr>\n",
              "    <tr>\n",
              "      <th>std</th>\n",
              "      <td>9.432617</td>\n",
              "      <td>18.514154</td>\n",
              "      <td>109.384145</td>\n",
              "      <td>0.423046</td>\n",
              "      <td>25.460334</td>\n",
              "      <td>1.066570</td>\n",
              "      <td>0.497414</td>\n",
              "    </tr>\n",
              "    <tr>\n",
              "      <th>min</th>\n",
              "      <td>28.000000</td>\n",
              "      <td>0.000000</td>\n",
              "      <td>0.000000</td>\n",
              "      <td>0.000000</td>\n",
              "      <td>60.000000</td>\n",
              "      <td>-2.600000</td>\n",
              "      <td>0.000000</td>\n",
              "    </tr>\n",
              "    <tr>\n",
              "      <th>25%</th>\n",
              "      <td>47.000000</td>\n",
              "      <td>120.000000</td>\n",
              "      <td>173.250000</td>\n",
              "      <td>0.000000</td>\n",
              "      <td>120.000000</td>\n",
              "      <td>0.000000</td>\n",
              "      <td>0.000000</td>\n",
              "    </tr>\n",
              "    <tr>\n",
              "      <th>50%</th>\n",
              "      <td>54.000000</td>\n",
              "      <td>130.000000</td>\n",
              "      <td>223.000000</td>\n",
              "      <td>0.000000</td>\n",
              "      <td>138.000000</td>\n",
              "      <td>0.600000</td>\n",
              "      <td>1.000000</td>\n",
              "    </tr>\n",
              "    <tr>\n",
              "      <th>75%</th>\n",
              "      <td>60.000000</td>\n",
              "      <td>140.000000</td>\n",
              "      <td>267.000000</td>\n",
              "      <td>0.000000</td>\n",
              "      <td>156.000000</td>\n",
              "      <td>1.500000</td>\n",
              "      <td>1.000000</td>\n",
              "    </tr>\n",
              "    <tr>\n",
              "      <th>max</th>\n",
              "      <td>77.000000</td>\n",
              "      <td>200.000000</td>\n",
              "      <td>603.000000</td>\n",
              "      <td>1.000000</td>\n",
              "      <td>202.000000</td>\n",
              "      <td>6.200000</td>\n",
              "      <td>1.000000</td>\n",
              "    </tr>\n",
              "  </tbody>\n",
              "</table>\n",
              "</div>\n",
              "      <button class=\"colab-df-convert\" onclick=\"convertToInteractive('df-653a8777-0ad0-4056-9c5c-b44abd15fcc2')\"\n",
              "              title=\"Convert this dataframe to an interactive table.\"\n",
              "              style=\"display:none;\">\n",
              "        \n",
              "  <svg xmlns=\"http://www.w3.org/2000/svg\" height=\"24px\"viewBox=\"0 0 24 24\"\n",
              "       width=\"24px\">\n",
              "    <path d=\"M0 0h24v24H0V0z\" fill=\"none\"/>\n",
              "    <path d=\"M18.56 5.44l.94 2.06.94-2.06 2.06-.94-2.06-.94-.94-2.06-.94 2.06-2.06.94zm-11 1L8.5 8.5l.94-2.06 2.06-.94-2.06-.94L8.5 2.5l-.94 2.06-2.06.94zm10 10l.94 2.06.94-2.06 2.06-.94-2.06-.94-.94-2.06-.94 2.06-2.06.94z\"/><path d=\"M17.41 7.96l-1.37-1.37c-.4-.4-.92-.59-1.43-.59-.52 0-1.04.2-1.43.59L10.3 9.45l-7.72 7.72c-.78.78-.78 2.05 0 2.83L4 21.41c.39.39.9.59 1.41.59.51 0 1.02-.2 1.41-.59l7.78-7.78 2.81-2.81c.8-.78.8-2.07 0-2.86zM5.41 20L4 18.59l7.72-7.72 1.47 1.35L5.41 20z\"/>\n",
              "  </svg>\n",
              "      </button>\n",
              "      \n",
              "  <style>\n",
              "    .colab-df-container {\n",
              "      display:flex;\n",
              "      flex-wrap:wrap;\n",
              "      gap: 12px;\n",
              "    }\n",
              "\n",
              "    .colab-df-convert {\n",
              "      background-color: #E8F0FE;\n",
              "      border: none;\n",
              "      border-radius: 50%;\n",
              "      cursor: pointer;\n",
              "      display: none;\n",
              "      fill: #1967D2;\n",
              "      height: 32px;\n",
              "      padding: 0 0 0 0;\n",
              "      width: 32px;\n",
              "    }\n",
              "\n",
              "    .colab-df-convert:hover {\n",
              "      background-color: #E2EBFA;\n",
              "      box-shadow: 0px 1px 2px rgba(60, 64, 67, 0.3), 0px 1px 3px 1px rgba(60, 64, 67, 0.15);\n",
              "      fill: #174EA6;\n",
              "    }\n",
              "\n",
              "    [theme=dark] .colab-df-convert {\n",
              "      background-color: #3B4455;\n",
              "      fill: #D2E3FC;\n",
              "    }\n",
              "\n",
              "    [theme=dark] .colab-df-convert:hover {\n",
              "      background-color: #434B5C;\n",
              "      box-shadow: 0px 1px 3px 1px rgba(0, 0, 0, 0.15);\n",
              "      filter: drop-shadow(0px 1px 2px rgba(0, 0, 0, 0.3));\n",
              "      fill: #FFFFFF;\n",
              "    }\n",
              "  </style>\n",
              "\n",
              "      <script>\n",
              "        const buttonEl =\n",
              "          document.querySelector('#df-653a8777-0ad0-4056-9c5c-b44abd15fcc2 button.colab-df-convert');\n",
              "        buttonEl.style.display =\n",
              "          google.colab.kernel.accessAllowed ? 'block' : 'none';\n",
              "\n",
              "        async function convertToInteractive(key) {\n",
              "          const element = document.querySelector('#df-653a8777-0ad0-4056-9c5c-b44abd15fcc2');\n",
              "          const dataTable =\n",
              "            await google.colab.kernel.invokeFunction('convertToInteractive',\n",
              "                                                     [key], {});\n",
              "          if (!dataTable) return;\n",
              "\n",
              "          const docLinkHtml = 'Like what you see? Visit the ' +\n",
              "            '<a target=\"_blank\" href=https://colab.research.google.com/notebooks/data_table.ipynb>data table notebook</a>'\n",
              "            + ' to learn more about interactive tables.';\n",
              "          element.innerHTML = '';\n",
              "          dataTable['output_type'] = 'display_data';\n",
              "          await google.colab.output.renderOutput(dataTable, element);\n",
              "          const docLink = document.createElement('div');\n",
              "          docLink.innerHTML = docLinkHtml;\n",
              "          element.appendChild(docLink);\n",
              "        }\n",
              "      </script>\n",
              "    </div>\n",
              "  </div>\n",
              "  "
            ]
          },
          "metadata": {},
          "execution_count": 330
        }
      ]
    },
    {
      "cell_type": "markdown",
      "source": [
        "##Univariate visualizations"
      ],
      "metadata": {
        "id": "KOPqQVuv_h-O"
      }
    },
    {
      "cell_type": "markdown",
      "source": [
        "TO DO: label table\n",
        "\n",
        "define x and y\n",
        "\n",
        "remove 0's"
      ],
      "metadata": {
        "id": "8mXDqG9DuqC0"
      }
    },
    {
      "cell_type": "code",
      "source": [
        "# creating a series of histograms theat present the numerical data\n",
        "df.hist(edgecolor='black', \n",
        "        xlabelsize=15,\n",
        "        ylabelsize=15,\n",
        "        grid=True,\n",
        "        figsize=[13,13],\n",
        "        xrot=26,);\n"
      ],
      "metadata": {
        "colab": {
          "base_uri": "https://localhost:8080/",
          "height": 0
        },
        "id": "Pk7bZcFFr5Wa",
        "outputId": "b873aec0-6d85-458f-a403-3dffbf6d7469"
      },
      "execution_count": 331,
      "outputs": [
        {
          "output_type": "display_data",
          "data": {
            "text/plain": [
              "<Figure size 936x936 with 9 Axes>"
            ],
            "image/png": "[encoded data removed]"
          },
          "metadata": {
            "needs_background": "light"
          }
        }
      ]
    },
    {
      "cell_type": "markdown",
      "source": [
        "Most people in the dataset are in their mid 50's and early 60's. This is a common age for at risk individuals to develop heart disease.\n",
        "\n",
        "Resting blood pressure was fairly common around 120 - 150, indicating high numbers of people experienceing elevated blood pressure.\n",
        "\n",
        "According to the above histogram, most people had cholesterol between 200 and 300, the normal range for this is between 0 and 200, though I believe the having a cholesterol of 0 is quite anomalous and unlikely for so many people. It could be an indicator of heart disease or it could be an error in the dataset.\n",
        "\n",
        "The fasting blood sugar table shows that over 700 people had fasting bloodsugar that was less than 120 mg, indicating a normal range. Anywhere between 0 and 99mg is considered normal, while ranges between 100 and 125 is considered prediabetic and anything above 125 indicates diabetes.\n",
        "\n",
        "Max heart rate peaks around 120 and gets lower with age, as expected. I've explored this with some detail already and will continue exploring this in later visualizations.\n",
        "\n",
        "Oldpeak has the highest number of patients with a score 0. With ranges between 1 and 4 becomeing more common with some outliers above 4 and below 0.  \n",
        "\n",
        "Heart disease shows that just 400 people in the data set did not have heart disease whereas the other 500 people did."
      ],
      "metadata": {
        "id": "jaMlbmvhsTvq"
      }
    },
    {
      "cell_type": "code",
      "source": [
        "#Asymptomatic chestpain was the most common, meaning there was often no notcible symptoms present in most people.\n",
        "\n",
        "df['ChestPainType'].hist(label= 'count');\n"
      ],
      "metadata": {
        "colab": {
          "base_uri": "https://localhost:8080/",
          "height": 0
        },
        "id": "qJdhJ4RRUdcZ",
        "outputId": "41b6cc04-a1aa-488e-e40b-369de744ccc9"
      },
      "execution_count": 332,
      "outputs": [
        {
          "output_type": "display_data",
          "data": {
            "text/plain": [
              "<Figure size 432x288 with 1 Axes>"
            ],
            "image/png": "[encoded data removed]"
          },
          "metadata": {
            "needs_background": "light"
          }
        }
      ]
    },
    {
      "cell_type": "code",
      "source": [
        "# this shows how many people did or did not have heart disease\n",
        "\n",
        "df['HeartDisease'].hist();"
      ],
      "metadata": {
        "colab": {
          "base_uri": "https://localhost:8080/",
          "height": 0
        },
        "id": "KOgnzMtWqCWC",
        "outputId": "9e2f04e0-bdbc-4fa0-8a43-6bcc27b330c3"
      },
      "execution_count": 333,
      "outputs": [
        {
          "output_type": "display_data",
          "data": {
            "text/plain": [
              "<Figure size 432x288 with 1 Axes>"
            ],
            "image/png": "[encoded data removed]"
          },
          "metadata": {
            "needs_background": "light"
          }
        }
      ]
    },
    {
      "cell_type": "code",
      "source": [
        "#this shows that most people in the sample were male\n",
        "\n",
        "df['Sex'].hist();"
      ],
      "metadata": {
        "colab": {
          "base_uri": "https://localhost:8080/",
          "height": 0
        },
        "id": "b2S0tyPBUTnL",
        "outputId": "98fda23c-5823-4f49-dd1e-b8f3a4e7aec0"
      },
      "execution_count": 334,
      "outputs": [
        {
          "output_type": "display_data",
          "data": {
            "text/plain": [
              "<Figure size 432x288 with 1 Axes>"
            ],
            "image/png": "[encoded data removed]"
          },
          "metadata": {
            "needs_background": "light"
          }
        }
      ]
    },
    {
      "cell_type": "code",
      "source": [
        "# angina during exercise is less common\n",
        "\n",
        "df['ExerciseAngina'].hist();"
      ],
      "metadata": {
        "colab": {
          "base_uri": "https://localhost:8080/",
          "height": 0
        },
        "id": "I45nAuzrOiZP",
        "outputId": "ca8bdc85-8615-43c9-a517-f4ea4ccf1df9"
      },
      "execution_count": 335,
      "outputs": [
        {
          "output_type": "display_data",
          "data": {
            "text/plain": [
              "<Figure size 432x288 with 1 Axes>"
            ],
            "image/png": "[encoded data removed]"
          },
          "metadata": {
            "needs_background": "light"
          }
        }
      ]
    },
    {
      "cell_type": "code",
      "source": [
        "#most people had normal resting ecgs\n",
        "\n",
        "df['RestingECG'].hist();"
      ],
      "metadata": {
        "colab": {
          "base_uri": "https://localhost:8080/",
          "height": 0
        },
        "id": "U_y8DyCoWZ9s",
        "outputId": "49a11687-a5ab-42d3-fe6d-3516450304ec"
      },
      "execution_count": 336,
      "outputs": [
        {
          "output_type": "display_data",
          "data": {
            "text/plain": [
              "<Figure size 432x288 with 1 Axes>"
            ],
            "image/png": "[encoded data removed]"
          },
          "metadata": {
            "needs_background": "light"
          }
        }
      ]
    },
    {
      "cell_type": "code",
      "source": [
        "#majority of peoples st_slope were up or flat, meaning higher levels of depression after exercise or no change.\n",
        "df['ST_Slope'].hist();"
      ],
      "metadata": {
        "colab": {
          "base_uri": "https://localhost:8080/",
          "height": 0
        },
        "id": "zUJYcOk2f0bP",
        "outputId": "f2f61a8a-328b-4b13-f036-cb3456c280f1"
      },
      "execution_count": 337,
      "outputs": [
        {
          "output_type": "display_data",
          "data": {
            "text/plain": [
              "<Figure size 432x288 with 1 Axes>"
            ],
            "image/png": "[encoded data removed]"
          },
          "metadata": {
            "needs_background": "light"
          }
        }
      ]
    },
    {
      "cell_type": "markdown",
      "source": [
        "##Multivariate analysis"
      ],
      "metadata": {
        "id": "wqmJQv1MBEOe"
      }
    },
    {
      "cell_type": "code",
      "source": [
        "# I wanted to create a heatmap to view correlate factors\n",
        "\n",
        "corr = df.corr()\n",
        "sns.heatmap(corr, cmap = 'Wistia', annot = True);"
      ],
      "metadata": {
        "colab": {
          "base_uri": "https://localhost:8080/",
          "height": 0
        },
        "id": "z9ky1qJFrK7H",
        "outputId": "2a19bbf4-8b4d-404d-e036-94a6db7cf9ea"
      },
      "execution_count": 338,
      "outputs": [
        {
          "output_type": "display_data",
          "data": {
            "text/plain": [
              "<Figure size 432x288 with 2 Axes>"
            ],
            "image/png": "[encoded data removed]"
          },
          "metadata": {
            "needs_background": "light"
          }
        }
      ]
    },
    {
      "cell_type": "markdown",
      "source": [
        "This sample seems pretty well balanced, the heatmap above has surprisingly few strong correlates. Oldpeak seems to be the strongest factor, followed by age and fasting blood sugar. Our findings above support that cholesterols is not the best indicator of heart disease with one of the lowest correlational values. Sex isnt measured here but ordinarily males are at a higher risk of heart disease according to https://gh.bmj.com/content/2/2/e000298. The dataset seems to support this conclusion as well with 725(78%) of the 918 individuals in the data set identifying as male."
      ],
      "metadata": {
        "id": "o9HY554StXMh"
      }
    },
    {
      "cell_type": "code",
      "source": [
        "    g = sns.catplot(x= 'Oldpeak', data=df, aspect=4.0, kind = 'count',\n",
        "                       hue='HeartDisease');\n",
        "    g.set_ylabels('Number of people');\n",
        "    plt.title('The most at risk oldpeak ranges');"
      ],
      "metadata": {
        "colab": {
          "base_uri": "https://localhost:8080/",
          "height": 0
        },
        "id": "fvsdkqLRllhJ",
        "outputId": "fbed46b8-3c23-40de-c12a-3d5ea238ce89"
      },
      "execution_count": 339,
      "outputs": [
        {
          "output_type": "display_data",
          "data": {
            "text/plain": [
              "<Figure size 1515.25x360 with 1 Axes>"
            ],
            "image/png": "[encoded data removed]"
          },
          "metadata": {
            "needs_background": "light"
          }
        }
      ]
    },
    {
      "cell_type": "markdown",
      "source": [
        "Oldpeak had the highest correlation to heartdisease in the data set. This plot illustrates the oldpeak range with the highest distribution to heart disease. 0 oldpeak is the most common, while it had the largest ammounts of people testing positive for heart disease, it also had the largest amounts of people not having heart disease so you're significantly more likely not to have heart disease with 0 oldpeak than to test positive for it. Additionally that number has everything to do with the data set, with a larger and more diverse sample size, I'de be more comfortable with those values. The most at risk oldpeak rates, from highest to lowest, are 0.0, 1.0, 1.5, 2.0, 2.5, 3.0 and 4.0. While I dont like these consistintly shaped groupings (its too evenly spaced) thats what the data shows. Proportionatly those are the values that had more people testing positive for heartdisease than not. aside from 0, Any oldpeak range above 1.0 presents the highest distribution of heart disease with the vast mojority of people in this range developing heart disease.The higher the oldpeak the more likely you are to develop heart disease. "
      ],
      "metadata": {
        "id": "2VfzJXhBqdeL"
      }
    },
    {
      "cell_type": "code",
      "source": [
        "#grouping mean age for visualzation\n",
        "dfgroup = df.groupby(['Age']).mean()\n",
        "dfgroup.head()"
      ],
      "metadata": {
        "colab": {
          "base_uri": "https://localhost:8080/",
          "height": 0
        },
        "id": "H424g63BYPdZ",
        "outputId": "26bd1a16-9e53-4f9f-b75c-f8ca991deb87"
      },
      "execution_count": 340,
      "outputs": [
        {
          "output_type": "execute_result",
          "data": {
            "text/plain": [
              "     RestingBP  Cholesterol  FastingBS       MaxHR  Oldpeak  HeartDisease\n",
              "Age                                                                      \n",
              "28       130.0   132.000000        0.0  185.000000     0.00           0.0\n",
              "29       130.0   236.666667        0.0  177.333333     0.00           0.0\n",
              "30       170.0   237.000000        0.0  170.000000     0.00           0.0\n",
              "31       110.0   244.500000        0.0  151.500000     0.75           0.5\n",
              "32       110.6   241.200000        0.2  152.200000     0.14           0.4"
            ],
            "text/html": [
              "\n",
              "  <div id=\"df-a25d0897-d705-4963-8603-083547fe2c9e\">\n",
              "    <div class=\"colab-df-container\">\n",
              "      <div>\n",
              "<style scoped>\n",
              "    .dataframe tbody tr th:only-of-type {\n",
              "        vertical-align: middle;\n",
              "    }\n",
              "\n",
              "    .dataframe tbody tr th {\n",
              "        vertical-align: top;\n",
              "    }\n",
              "\n",
              "    .dataframe thead th {\n",
              "        text-align: right;\n",
              "    }\n",
              "</style>\n",
              "<table border=\"1\" class=\"dataframe\">\n",
              "  <thead>\n",
              "    <tr style=\"text-align: right;\">\n",
              "      <th></th>\n",
              "      <th>RestingBP</th>\n",
              "      <th>Cholesterol</th>\n",
              "      <th>FastingBS</th>\n",
              "      <th>MaxHR</th>\n",
              "      <th>Oldpeak</th>\n",
              "      <th>HeartDisease</th>\n",
              "    </tr>\n",
              "    <tr>\n",
              "      <th>Age</th>\n",
              "      <th></th>\n",
              "      <th></th>\n",
              "      <th></th>\n",
              "      <th></th>\n",
              "      <th></th>\n",
              "      <th></th>\n",
              "    </tr>\n",
              "  </thead>\n",
              "  <tbody>\n",
              "    <tr>\n",
              "      <th>28</th>\n",
              "      <td>130.0</td>\n",
              "      <td>132.000000</td>\n",
              "      <td>0.0</td>\n",
              "      <td>185.000000</td>\n",
              "      <td>0.00</td>\n",
              "      <td>0.0</td>\n",
              "    </tr>\n",
              "    <tr>\n",
              "      <th>29</th>\n",
              "      <td>130.0</td>\n",
              "      <td>236.666667</td>\n",
              "      <td>0.0</td>\n",
              "      <td>177.333333</td>\n",
              "      <td>0.00</td>\n",
              "      <td>0.0</td>\n",
              "    </tr>\n",
              "    <tr>\n",
              "      <th>30</th>\n",
              "      <td>170.0</td>\n",
              "      <td>237.000000</td>\n",
              "      <td>0.0</td>\n",
              "      <td>170.000000</td>\n",
              "      <td>0.00</td>\n",
              "      <td>0.0</td>\n",
              "    </tr>\n",
              "    <tr>\n",
              "      <th>31</th>\n",
              "      <td>110.0</td>\n",
              "      <td>244.500000</td>\n",
              "      <td>0.0</td>\n",
              "      <td>151.500000</td>\n",
              "      <td>0.75</td>\n",
              "      <td>0.5</td>\n",
              "    </tr>\n",
              "    <tr>\n",
              "      <th>32</th>\n",
              "      <td>110.6</td>\n",
              "      <td>241.200000</td>\n",
              "      <td>0.2</td>\n",
              "      <td>152.200000</td>\n",
              "      <td>0.14</td>\n",
              "      <td>0.4</td>\n",
              "    </tr>\n",
              "  </tbody>\n",
              "</table>\n",
              "</div>\n",
              "      <button class=\"colab-df-convert\" onclick=\"convertToInteractive('df-a25d0897-d705-4963-8603-083547fe2c9e')\"\n",
              "              title=\"Convert this dataframe to an interactive table.\"\n",
              "              style=\"display:none;\">\n",
              "        \n",
              "  <svg xmlns=\"http://www.w3.org/2000/svg\" height=\"24px\"viewBox=\"0 0 24 24\"\n",
              "       width=\"24px\">\n",
              "    <path d=\"M0 0h24v24H0V0z\" fill=\"none\"/>\n",
              "    <path d=\"M18.56 5.44l.94 2.06.94-2.06 2.06-.94-2.06-.94-.94-2.06-.94 2.06-2.06.94zm-11 1L8.5 8.5l.94-2.06 2.06-.94-2.06-.94L8.5 2.5l-.94 2.06-2.06.94zm10 10l.94 2.06.94-2.06 2.06-.94-2.06-.94-.94-2.06-.94 2.06-2.06.94z\"/><path d=\"M17.41 7.96l-1.37-1.37c-.4-.4-.92-.59-1.43-.59-.52 0-1.04.2-1.43.59L10.3 9.45l-7.72 7.72c-.78.78-.78 2.05 0 2.83L4 21.41c.39.39.9.59 1.41.59.51 0 1.02-.2 1.41-.59l7.78-7.78 2.81-2.81c.8-.78.8-2.07 0-2.86zM5.41 20L4 18.59l7.72-7.72 1.47 1.35L5.41 20z\"/>\n",
              "  </svg>\n",
              "      </button>\n",
              "      \n",
              "  <style>\n",
              "    .colab-df-container {\n",
              "      display:flex;\n",
              "      flex-wrap:wrap;\n",
              "      gap: 12px;\n",
              "    }\n",
              "\n",
              "    .colab-df-convert {\n",
              "      background-color: #E8F0FE;\n",
              "      border: none;\n",
              "      border-radius: 50%;\n",
              "      cursor: pointer;\n",
              "      display: none;\n",
              "      fill: #1967D2;\n",
              "      height: 32px;\n",
              "      padding: 0 0 0 0;\n",
              "      width: 32px;\n",
              "    }\n",
              "\n",
              "    .colab-df-convert:hover {\n",
              "      background-color: #E2EBFA;\n",
              "      box-shadow: 0px 1px 2px rgba(60, 64, 67, 0.3), 0px 1px 3px 1px rgba(60, 64, 67, 0.15);\n",
              "      fill: #174EA6;\n",
              "    }\n",
              "\n",
              "    [theme=dark] .colab-df-convert {\n",
              "      background-color: #3B4455;\n",
              "      fill: #D2E3FC;\n",
              "    }\n",
              "\n",
              "    [theme=dark] .colab-df-convert:hover {\n",
              "      background-color: #434B5C;\n",
              "      box-shadow: 0px 1px 3px 1px rgba(0, 0, 0, 0.15);\n",
              "      filter: drop-shadow(0px 1px 2px rgba(0, 0, 0, 0.3));\n",
              "      fill: #FFFFFF;\n",
              "    }\n",
              "  </style>\n",
              "\n",
              "      <script>\n",
              "        const buttonEl =\n",
              "          document.querySelector('#df-a25d0897-d705-4963-8603-083547fe2c9e button.colab-df-convert');\n",
              "        buttonEl.style.display =\n",
              "          google.colab.kernel.accessAllowed ? 'block' : 'none';\n",
              "\n",
              "        async function convertToInteractive(key) {\n",
              "          const element = document.querySelector('#df-a25d0897-d705-4963-8603-083547fe2c9e');\n",
              "          const dataTable =\n",
              "            await google.colab.kernel.invokeFunction('convertToInteractive',\n",
              "                                                     [key], {});\n",
              "          if (!dataTable) return;\n",
              "\n",
              "          const docLinkHtml = 'Like what you see? Visit the ' +\n",
              "            '<a target=\"_blank\" href=https://colab.research.google.com/notebooks/data_table.ipynb>data table notebook</a>'\n",
              "            + ' to learn more about interactive tables.';\n",
              "          element.innerHTML = '';\n",
              "          dataTable['output_type'] = 'display_data';\n",
              "          await google.colab.output.renderOutput(dataTable, element);\n",
              "          const docLink = document.createElement('div');\n",
              "          docLink.innerHTML = docLinkHtml;\n",
              "          element.appendChild(docLink);\n",
              "        }\n",
              "      </script>\n",
              "    </div>\n",
              "  </div>\n",
              "  "
            ]
          },
          "metadata": {},
          "execution_count": 340
        }
      ]
    },
    {
      "cell_type": "code",
      "source": [
        "sns.lineplot(x= dfgroup.index, y = 'HeartDisease', data = dfgroup);"
      ],
      "metadata": {
        "colab": {
          "base_uri": "https://localhost:8080/",
          "height": 0
        },
        "id": "8ckSGugVZhdX",
        "outputId": "e7488b19-cd63-4fde-f379-4e6769074b9e"
      },
      "execution_count": 341,
      "outputs": [
        {
          "output_type": "display_data",
          "data": {
            "text/plain": [
              "<Figure size 432x288 with 1 Axes>"
            ],
            "image/png": "[encoded data removed]"
          },
          "metadata": {
            "needs_background": "light"
          }
        }
      ]
    },
    {
      "cell_type": "code",
      "source": [
        "    g = sns.catplot(x= 'Age', y = 'Oldpeak',data=df, aspect=4.0, kind  = 'bar',ci =  None,\n",
        "                       hue = 'HeartDisease'), \n",
        "    plt.title('Distribution of Age, Oldpeak and Heart disease');"
      ],
      "metadata": {
        "colab": {
          "base_uri": "https://localhost:8080/",
          "height": 0
        },
        "id": "lDoRCf6OHzql",
        "outputId": "62336ece-5790-4014-8ad2-d53d33667b39"
      },
      "execution_count": 342,
      "outputs": [
        {
          "output_type": "display_data",
          "data": {
            "text/plain": [
              "<Figure size 1515.25x360 with 1 Axes>"
            ],
            "image/png": "[encoded data removed]"
          },
          "metadata": {
            "needs_background": "light"
          }
        }
      ]
    },
    {
      "cell_type": "markdown",
      "source": [
        "This catplot gives us a good distribution of age, oldpeak and whether or not a person had heart disease. We can see that it can start as early as 31 and peaks at age 58. People vulnerable to heart disease are most at risk with oldpeak levels higher than 1 between the ages of 46 and 69. Alternativly this could be due to the avg age of people in the data set( the mean age was 54  and there were quite a few people in their mid 50's within the data set), if you recall there were farily few people older than 70.\n",
        "\n",
        "This lineplot tells a similar story, it fluctuates up and down at younger ages but steadily rises around age 45. This is most likely due to the number of people within this age range in the data set. However it clearly shows there is an increased risk of heart disease the older a person gets. With a larger data set we would most likely get a clearer and more accurate picture, other wise people would have a near 100% chance of getting heart disease at 72."
      ],
      "metadata": {
        "id": "JlRiiDQ6oVMv"
      }
    },
    {
      "cell_type": "code",
      "source": [
        "    g = sns.catplot(x= 'RestingBP', data=df, aspect=4.0,kind ='count',\n",
        "                       hue='HeartDisease');\n",
        "    g.set_ylabels('Patients');\n",
        "    g.set_xticklabels(rotation = 90);\n",
        "    plt.title('Distribution of Resting Blood Pressure Levels');"
      ],
      "metadata": {
        "colab": {
          "base_uri": "https://localhost:8080/",
          "height": 0
        },
        "id": "fnAlBuO0D0Ph",
        "outputId": "24c3a5be-d8ef-408e-c884-9feedd7ac888"
      },
      "execution_count": 343,
      "outputs": [
        {
          "output_type": "display_data",
          "data": {
            "text/plain": [
              "<Figure size 1515.25x360 with 1 Axes>"
            ],
            "image/png": "[encoded data removed]"
          },
          "metadata": {
            "needs_background": "light"
          }
        }
      ]
    },
    {
      "cell_type": "markdown",
      "source": [
        "Here i'm examining which levels of resting blood pressure have the highest distribution of heart disease. Rates of 110, 120, 130, 140, 150, and 160 have the highest occurances, indicating elevated blood pressure, but even at these levels its still split somewhat evenly with 2/6 favoring negative testing results. "
      ],
      "metadata": {
        "id": "EId-nv2fFWOm"
      }
    },
    {
      "cell_type": "code",
      "source": [
        "    g = sns.catplot(x= 'ExerciseAngina', data=df, aspect=4.0, kind='count',\n",
        "                       hue='HeartDisease');\n",
        "    plt.title('Overview of Exercise Angina and Heart Disease');\n",
        "    g.set_ylabels('Patients');\n"
      ],
      "metadata": {
        "id": "wBoM7QKdqbcU",
        "colab": {
          "base_uri": "https://localhost:8080/",
          "height": 0
        },
        "outputId": "37ddd678-81f3-41a3-8c3a-4b7d4e93e4b2"
      },
      "execution_count": 344,
      "outputs": [
        {
          "output_type": "display_data",
          "data": {
            "text/plain": [
              "<Figure size 1515.25x360 with 1 Axes>"
            ],
            "image/png": "[encoded data removed]"
          },
          "metadata": {
            "needs_background": "light"
          }
        }
      ]
    },
    {
      "cell_type": "markdown",
      "source": [
        "This graph indicates that if you did not experience angina while working out, there is about a 36% chance you will still develop heart disease, whereas if you did experience angina while exercising you are about 6-7 times more likely to develop heart disease than not. Is this enough to determine if angina is a valid factor in heart diseae? That's really not for me to say but based off this information, if I were a doctor and my patient was complaining about angina, and if they were older than 45 I would take that very seriously."
      ],
      "metadata": {
        "id": "I3AcqKU9W74G"
      }
    },
    {
      "cell_type": "code",
      "source": [
        "sns.catplot(x = 'RestingECG', y = 'Oldpeak', data = df, hue = 'HeartDisease',kind = 'bar');\n",
        "plt.title('At Risk Oldpeak Ranges and Resting ecg Results');"
      ],
      "metadata": {
        "colab": {
          "base_uri": "https://localhost:8080/",
          "height": 0
        },
        "id": "r4Gx_ijO-CJC",
        "outputId": "abec5ccd-b1ba-4c8a-84a9-0cf8a3852093"
      },
      "execution_count": 345,
      "outputs": [
        {
          "output_type": "display_data",
          "data": {
            "text/plain": [
              "<Figure size 435.25x360 with 1 Axes>"
            ],
            "image/png": "[encoded data removed]"
          },
          "metadata": {
            "needs_background": "light"
          }
        }
      ]
    },
    {
      "cell_type": "markdown",
      "source": [
        "This bar graph tells us that the risk of heart disease increases with higher levels of oldpeak and more elevated ECGs. if your oldpeak is below .6 at any resting ecg range, you're much less likely to develop heart disease. This data is consistent with the above tables.\n"
      ],
      "metadata": {
        "id": "4gEfvfu0BMxv"
      }
    },
    {
      "cell_type": "markdown",
      "source": [
        "#Machine Learning"
      ],
      "metadata": {
        "id": "GsdovNzpCgf9"
      }
    },
    {
      "cell_type": "markdown",
      "source": [
        "##Preprocessing Steps"
      ],
      "metadata": {
        "id": "qoYNPQp3jAid"
      }
    },
    {
      "cell_type": "code",
      "source": [
        "#Combining the categorical features for heartdisease into one table, maybe my model will find more patterns?\n",
        "df['Sex,CPT,ECG,EA,& ST_Slope'] = df['Sex']+ ', ' +df['ChestPainType']+ ', ' +df['RestingECG']+ ', ' +df['ExerciseAngina']+ ', ' +df['ST_Slope']\n",
        "df.drop(['Sex','ChestPainType','RestingECG','ExerciseAngina','ST_Slope'], axis = 1,inplace = True)\n",
        "df.head()"
      ],
      "metadata": {
        "colab": {
          "base_uri": "https://localhost:8080/",
          "height": 206
        },
        "id": "SSbfhJ7KnwXE",
        "outputId": "90062379-ff11-422f-b9c8-0ccc43894cac"
      },
      "execution_count": 346,
      "outputs": [
        {
          "output_type": "execute_result",
          "data": {
            "text/plain": [
              "   Age  RestingBP  Cholesterol  FastingBS  MaxHR  Oldpeak  HeartDisease  \\\n",
              "0   40        140          289          0    172      0.0             0   \n",
              "1   49        160          180          0    156      1.0             1   \n",
              "2   37        130          283          0     98      0.0             0   \n",
              "3   48        138          214          0    108      1.5             1   \n",
              "4   54        150          195          0    122      0.0             0   \n",
              "\n",
              "  Sex,CPT,ECG,EA,& ST_Slope  \n",
              "0     M, ATA, Normal, N, Up  \n",
              "1   F, NAP, Normal, N, Flat  \n",
              "2         M, ATA, ST, N, Up  \n",
              "3   F, ASY, Normal, Y, Flat  \n",
              "4     M, NAP, Normal, N, Up  "
            ],
            "text/html": [
              "\n",
              "  <div id=\"df-7b1d478e-1c34-4ba9-8e4d-8674263f81ed\">\n",
              "    <div class=\"colab-df-container\">\n",
              "      <div>\n",
              "<style scoped>\n",
              "    .dataframe tbody tr th:only-of-type {\n",
              "        vertical-align: middle;\n",
              "    }\n",
              "\n",
              "    .dataframe tbody tr th {\n",
              "        vertical-align: top;\n",
              "    }\n",
              "\n",
              "    .dataframe thead th {\n",
              "        text-align: right;\n",
              "    }\n",
              "</style>\n",
              "<table border=\"1\" class=\"dataframe\">\n",
              "  <thead>\n",
              "    <tr style=\"text-align: right;\">\n",
              "      <th></th>\n",
              "      <th>Age</th>\n",
              "      <th>RestingBP</th>\n",
              "      <th>Cholesterol</th>\n",
              "      <th>FastingBS</th>\n",
              "      <th>MaxHR</th>\n",
              "      <th>Oldpeak</th>\n",
              "      <th>HeartDisease</th>\n",
              "      <th>Sex,CPT,ECG,EA,&amp; ST_Slope</th>\n",
              "    </tr>\n",
              "  </thead>\n",
              "  <tbody>\n",
              "    <tr>\n",
              "      <th>0</th>\n",
              "      <td>40</td>\n",
              "      <td>140</td>\n",
              "      <td>289</td>\n",
              "      <td>0</td>\n",
              "      <td>172</td>\n",
              "      <td>0.0</td>\n",
              "      <td>0</td>\n",
              "      <td>M, ATA, Normal, N, Up</td>\n",
              "    </tr>\n",
              "    <tr>\n",
              "      <th>1</th>\n",
              "      <td>49</td>\n",
              "      <td>160</td>\n",
              "      <td>180</td>\n",
              "      <td>0</td>\n",
              "      <td>156</td>\n",
              "      <td>1.0</td>\n",
              "      <td>1</td>\n",
              "      <td>F, NAP, Normal, N, Flat</td>\n",
              "    </tr>\n",
              "    <tr>\n",
              "      <th>2</th>\n",
              "      <td>37</td>\n",
              "      <td>130</td>\n",
              "      <td>283</td>\n",
              "      <td>0</td>\n",
              "      <td>98</td>\n",
              "      <td>0.0</td>\n",
              "      <td>0</td>\n",
              "      <td>M, ATA, ST, N, Up</td>\n",
              "    </tr>\n",
              "    <tr>\n",
              "      <th>3</th>\n",
              "      <td>48</td>\n",
              "      <td>138</td>\n",
              "      <td>214</td>\n",
              "      <td>0</td>\n",
              "      <td>108</td>\n",
              "      <td>1.5</td>\n",
              "      <td>1</td>\n",
              "      <td>F, ASY, Normal, Y, Flat</td>\n",
              "    </tr>\n",
              "    <tr>\n",
              "      <th>4</th>\n",
              "      <td>54</td>\n",
              "      <td>150</td>\n",
              "      <td>195</td>\n",
              "      <td>0</td>\n",
              "      <td>122</td>\n",
              "      <td>0.0</td>\n",
              "      <td>0</td>\n",
              "      <td>M, NAP, Normal, N, Up</td>\n",
              "    </tr>\n",
              "  </tbody>\n",
              "</table>\n",
              "</div>\n",
              "      <button class=\"colab-df-convert\" onclick=\"convertToInteractive('df-7b1d478e-1c34-4ba9-8e4d-8674263f81ed')\"\n",
              "              title=\"Convert this dataframe to an interactive table.\"\n",
              "              style=\"display:none;\">\n",
              "        \n",
              "  <svg xmlns=\"http://www.w3.org/2000/svg\" height=\"24px\"viewBox=\"0 0 24 24\"\n",
              "       width=\"24px\">\n",
              "    <path d=\"M0 0h24v24H0V0z\" fill=\"none\"/>\n",
              "    <path d=\"M18.56 5.44l.94 2.06.94-2.06 2.06-.94-2.06-.94-.94-2.06-.94 2.06-2.06.94zm-11 1L8.5 8.5l.94-2.06 2.06-.94-2.06-.94L8.5 2.5l-.94 2.06-2.06.94zm10 10l.94 2.06.94-2.06 2.06-.94-2.06-.94-.94-2.06-.94 2.06-2.06.94z\"/><path d=\"M17.41 7.96l-1.37-1.37c-.4-.4-.92-.59-1.43-.59-.52 0-1.04.2-1.43.59L10.3 9.45l-7.72 7.72c-.78.78-.78 2.05 0 2.83L4 21.41c.39.39.9.59 1.41.59.51 0 1.02-.2 1.41-.59l7.78-7.78 2.81-2.81c.8-.78.8-2.07 0-2.86zM5.41 20L4 18.59l7.72-7.72 1.47 1.35L5.41 20z\"/>\n",
              "  </svg>\n",
              "      </button>\n",
              "      \n",
              "  <style>\n",
              "    .colab-df-container {\n",
              "      display:flex;\n",
              "      flex-wrap:wrap;\n",
              "      gap: 12px;\n",
              "    }\n",
              "\n",
              "    .colab-df-convert {\n",
              "      background-color: #E8F0FE;\n",
              "      border: none;\n",
              "      border-radius: 50%;\n",
              "      cursor: pointer;\n",
              "      display: none;\n",
              "      fill: #1967D2;\n",
              "      height: 32px;\n",
              "      padding: 0 0 0 0;\n",
              "      width: 32px;\n",
              "    }\n",
              "\n",
              "    .colab-df-convert:hover {\n",
              "      background-color: #E2EBFA;\n",
              "      box-shadow: 0px 1px 2px rgba(60, 64, 67, 0.3), 0px 1px 3px 1px rgba(60, 64, 67, 0.15);\n",
              "      fill: #174EA6;\n",
              "    }\n",
              "\n",
              "    [theme=dark] .colab-df-convert {\n",
              "      background-color: #3B4455;\n",
              "      fill: #D2E3FC;\n",
              "    }\n",
              "\n",
              "    [theme=dark] .colab-df-convert:hover {\n",
              "      background-color: #434B5C;\n",
              "      box-shadow: 0px 1px 3px 1px rgba(0, 0, 0, 0.15);\n",
              "      filter: drop-shadow(0px 1px 2px rgba(0, 0, 0, 0.3));\n",
              "      fill: #FFFFFF;\n",
              "    }\n",
              "  </style>\n",
              "\n",
              "      <script>\n",
              "        const buttonEl =\n",
              "          document.querySelector('#df-7b1d478e-1c34-4ba9-8e4d-8674263f81ed button.colab-df-convert');\n",
              "        buttonEl.style.display =\n",
              "          google.colab.kernel.accessAllowed ? 'block' : 'none';\n",
              "\n",
              "        async function convertToInteractive(key) {\n",
              "          const element = document.querySelector('#df-7b1d478e-1c34-4ba9-8e4d-8674263f81ed');\n",
              "          const dataTable =\n",
              "            await google.colab.kernel.invokeFunction('convertToInteractive',\n",
              "                                                     [key], {});\n",
              "          if (!dataTable) return;\n",
              "\n",
              "          const docLinkHtml = 'Like what you see? Visit the ' +\n",
              "            '<a target=\"_blank\" href=https://colab.research.google.com/notebooks/data_table.ipynb>data table notebook</a>'\n",
              "            + ' to learn more about interactive tables.';\n",
              "          element.innerHTML = '';\n",
              "          dataTable['output_type'] = 'display_data';\n",
              "          await google.colab.output.renderOutput(dataTable, element);\n",
              "          const docLink = document.createElement('div');\n",
              "          docLink.innerHTML = docLinkHtml;\n",
              "          element.appendChild(docLink);\n",
              "        }\n",
              "      </script>\n",
              "    </div>\n",
              "  </div>\n",
              "  "
            ]
          },
          "metadata": {},
          "execution_count": 346
        }
      ]
    },
    {
      "cell_type": "code",
      "source": [
        "#defining function for metric analysis\n",
        "def eval_regression(true, pred):\n",
        "  mae = mean_absolute_error(true, pred)\n",
        "  mse = mean_squared_error(true, pred)\n",
        "  rmse = np.sqrt(mse)\n",
        "  r2 = r2_score(true, pred)\n",
        "\n",
        "  print(f'MAE {mae},\\n MSE {mse},\\n RMSE: {rmse},\\n R^2: {r2} ')"
      ],
      "metadata": {
        "id": "EikHPtcNNWGC"
      },
      "execution_count": 347,
      "outputs": []
    },
    {
      "cell_type": "code",
      "source": [
        "# establishing X features and target y\n",
        "\n",
        "X = df.drop(columns = 'HeartDisease')\n",
        "y = df['HeartDisease']\n",
        "\n",
        "# I'm going to drop resting bp, cholesterol, and max hr as these had either a low correlation or a negative one, essentially being just noise.\n",
        "df.drop(['RestingBP','Cholesterol','MaxHR'],axis=1,inplace = True)\n",
        "# as a note dropping these columns had no effect on my metrics\n",
        "\n",
        "#Instantiating train test split\n",
        "\n",
        "X_train,X_test,y_train,y_test = train_test_split(X,y, random_state = 42)"
      ],
      "metadata": {
        "id": "9qL1Qdk7Cfu-"
      },
      "execution_count": 348,
      "outputs": []
    },
    {
      "cell_type": "code",
      "source": [
        "#making column selector\n",
        "num_sel = make_column_selector(dtype_include='number')\n",
        "cat_sel = make_column_selector(dtype_include='object')\n",
        "\n",
        "# preprocessing features by scaling and onehot encoding\n",
        "scaler = StandardScaler()\n",
        "ohe = OneHotEncoder(handle_unknown='ignore', sparse = False)\n",
        "\n",
        "# instantiating column transfer\n",
        "num_tuple = (scaler,num_sel)\n",
        "cat_tuple = (ohe,cat_sel)\n",
        "\n",
        "# creating preprocessor\n",
        "preprocessor = make_column_transformer(num_tuple,cat_tuple)"
      ],
      "metadata": {
        "id": "-mNB8Rl5USxI"
      },
      "execution_count": 349,
      "outputs": []
    },
    {
      "cell_type": "code",
      "source": [
        "#incorporating pca\n",
        "pca = PCA(n_components=.95)\n"
      ],
      "metadata": {
        "id": "qaQWXV4CTJ6a"
      },
      "execution_count": 350,
      "outputs": []
    },
    {
      "cell_type": "code",
      "source": [
        "# allowing the model to explore more features\n",
        "polyf = PolynomialFeatures(2)"
      ],
      "metadata": {
        "id": "57B-gHnkXV8y"
      },
      "execution_count": 351,
      "outputs": []
    },
    {
      "cell_type": "markdown",
      "source": [
        "##Decision Tree Regressor"
      ],
      "metadata": {
        "id": "G6QtyUG4gnzp"
      }
    },
    {
      "cell_type": "code",
      "source": [
        "#instantiating decision tree\n",
        "dtr= DecisionTreeRegressor(random_state=42)\n",
        "#creating paramater grid for grid search cv\n",
        "param_grid = {'max_depth':range(1,6)}"
      ],
      "metadata": {
        "id": "Ua0Mb56qfVIq"
      },
      "execution_count": 352,
      "outputs": []
    },
    {
      "cell_type": "code",
      "source": [
        "#creating and fitting grid search to comb through the best depths for my model\n",
        "dtr_grid_search = GridSearchCV(dtr,param_grid)\n",
        "dtr_grid_pipe = make_pipeline(preprocessor,polyf,pca,dtr_grid_search)\n",
        "dtr_grid_pipe.fit(X_train,y_train)\n",
        "dtr_grid_search.best_params_"
      ],
      "metadata": {
        "colab": {
          "base_uri": "https://localhost:8080/"
        },
        "id": "p1kjIATqcaeI",
        "outputId": "7fa8e441-7417-4045-f045-bd412587d2e7"
      },
      "execution_count": 353,
      "outputs": [
        {
          "output_type": "execute_result",
          "data": {
            "text/plain": [
              "{'max_depth': 2}"
            ]
          },
          "metadata": {},
          "execution_count": 353
        }
      ]
    },
    {
      "cell_type": "code",
      "source": [
        "#creating new model based off cv\n",
        "dtbest = dtr_grid_search.best_estimator_\n",
        "dtbest_pipe = make_pipeline(preprocessor,polyf,pca,dtbest)\n",
        "dtbest_pipe.fit(X_train,y_train)\n",
        "dtbest_train_preds = dtbest_pipe.predict(X_train)\n",
        "dtbest_test_preds = dtbest_pipe.predict(X_test)"
      ],
      "metadata": {
        "id": "i6fBQ5B1lONl"
      },
      "execution_count": 354,
      "outputs": []
    },
    {
      "cell_type": "code",
      "source": [
        "#determining metrics\n",
        "eval_regression(y_train,dtbest_train_preds)\n",
        "eval_regression(y_test,dtbest_test_preds)"
      ],
      "metadata": {
        "colab": {
          "base_uri": "https://localhost:8080/"
        },
        "id": "ItAk_wF5lkyb",
        "outputId": "f304f71e-b84e-4f8c-b966-e3eba31d6c81"
      },
      "execution_count": 355,
      "outputs": [
        {
          "output_type": "stream",
          "name": "stdout",
          "text": [
            "MAE 0.3052961094828795,\n",
            " MSE 0.15264805474143972,\n",
            " RMSE: 0.3907020024794341,\n",
            " R^2: 0.3840780071643818 \n",
            "MAE 0.3437904851281993,\n",
            " MSE 0.18229465671859538,\n",
            " RMSE: 0.426959783490899,\n",
            " R^2: 0.2545309724479209 \n"
          ]
        }
      ]
    },
    {
      "cell_type": "markdown",
      "source": [
        "This model is somewhat overfit to the testing data, however the errors it's likely to make are very low and smaller in size."
      ],
      "metadata": {
        "id": "LAQXcayeaCM9"
      }
    },
    {
      "cell_type": "markdown",
      "source": [
        "##Random Forest Regressor"
      ],
      "metadata": {
        "id": "kenwj_pljqOA"
      }
    },
    {
      "cell_type": "code",
      "source": [
        "#creating Random Forest model\n",
        "rf = RandomForestRegressor(n_estimators= 1000,max_features= 2 )\n",
        "rfparam_grid = {'max_depth':range(1,21),\n",
        "                'max_features':range(1,5)}\n",
        "#creating and fitting grid search to comb through the best depths for my model\n",
        "rf_grid_search = GridSearchCV(rf,rfparam_grid)\n",
        "rf_grid_pipe = make_pipeline(preprocessor,polyf,pca,rf_grid_search)\n",
        "rf_grid_pipe.fit(X_train,y_train)\n",
        "rf_grid_search.best_params_"
      ],
      "metadata": {
        "colab": {
          "base_uri": "https://localhost:8080/"
        },
        "id": "cD9vujvqj4yC",
        "outputId": "8d7a43ea-1109-41fd-e14f-151fd817f484"
      },
      "execution_count": 356,
      "outputs": [
        {
          "output_type": "execute_result",
          "data": {
            "text/plain": [
              "{'max_depth': 18, 'max_features': 4}"
            ]
          },
          "metadata": {},
          "execution_count": 356
        }
      ]
    },
    {
      "cell_type": "code",
      "source": [
        "#creating new model based off cv\n",
        "rfbest = rf_grid_search.best_estimator_\n",
        "rfbest_pipe = make_pipeline(preprocessor,polyf,pca,rfbest)\n",
        "rfbest_pipe.fit(X_train,y_train)\n",
        "rfbest_train_preds = rfbest_pipe.predict(X_train)\n",
        "rfbest_test_preds = rfbest_pipe.predict(X_test)"
      ],
      "metadata": {
        "id": "R_IGsDsuk-JW"
      },
      "execution_count": 357,
      "outputs": []
    },
    {
      "cell_type": "code",
      "source": [
        "#determining metrics\n",
        "eval_regression(y_train,rfbest_train_preds)\n",
        "eval_regression(y_test,rfbest_test_preds)"
      ],
      "metadata": {
        "colab": {
          "base_uri": "https://localhost:8080/"
        },
        "id": "_mpJrGCcq3Vb",
        "outputId": "bb614975-0466-466b-b623-79198e0236b6"
      },
      "execution_count": 358,
      "outputs": [
        {
          "output_type": "stream",
          "name": "stdout",
          "text": [
            "MAE 0.11494225879802532,\n",
            " MSE 0.018312024594718906,\n",
            " RMSE: 0.13532192946717433,\n",
            " R^2: 0.9261125292402941 \n",
            "MAE 0.3135731161598574,\n",
            " MSE 0.12987642285882633,\n",
            " RMSE: 0.360383716139931,\n",
            " R^2: 0.4688881594594996 \n"
          ]
        }
      ]
    },
    {
      "cell_type": "markdown",
      "source": [
        "Spiffy metrics, we got good scores on the training data but our r2 score was low on testing. This model is less error prone than the decision tree model and makes smaller errors but is also overfitted to the data."
      ],
      "metadata": {
        "id": "ECx_Jy9utZoO"
      }
    },
    {
      "cell_type": "markdown",
      "source": [
        "##Linear Regression"
      ],
      "metadata": {
        "id": "SaMSUmdhjvjv"
      }
    },
    {
      "cell_type": "code",
      "source": [
        "#creating linear regression model\n",
        "lr = LinearRegression()\n",
        "lrparam_grid = {'n_jobs':range(1,21)}"
      ],
      "metadata": {
        "id": "lcoAp9tTrH0m"
      },
      "execution_count": 359,
      "outputs": []
    },
    {
      "cell_type": "code",
      "source": [
        "#creating and fitting grid search to comb through the best depths for my model\n",
        "lr_grid_search = GridSearchCV(lr,lrparam_grid)\n",
        "lr_grid_pipe = make_pipeline(preprocessor,polyf,pca,lr_grid_search)\n",
        "lr_grid_pipe.fit(X_train,y_train)\n",
        "lr_grid_search.best_params_"
      ],
      "metadata": {
        "colab": {
          "base_uri": "https://localhost:8080/"
        },
        "id": "_z-l_CfdsF17",
        "outputId": "b3cdf96f-46e6-4cc4-8fb2-613d61ae6b96"
      },
      "execution_count": 360,
      "outputs": [
        {
          "output_type": "execute_result",
          "data": {
            "text/plain": [
              "{'n_jobs': 1}"
            ]
          },
          "metadata": {},
          "execution_count": 360
        }
      ]
    },
    {
      "cell_type": "code",
      "source": [
        "#creating new model based off cv\n",
        "lrbest = lr_grid_search.best_estimator_\n",
        "lrbest_pipe = make_pipeline(preprocessor,polyf,pca,lrbest)\n",
        "lrbest_pipe.fit(X_train,y_train)\n",
        "lrbest_train_preds = lrbest_pipe.predict(X_train)\n",
        "lrbest_test_preds = lrbest_pipe.predict(X_test)"
      ],
      "metadata": {
        "id": "q2eQoWvGrtrL"
      },
      "execution_count": 361,
      "outputs": []
    },
    {
      "cell_type": "code",
      "source": [
        "#determining metrics\n",
        "eval_regression(y_train,lrbest_train_preds)\n",
        "eval_regression(y_test,lrbest_test_preds)"
      ],
      "metadata": {
        "colab": {
          "base_uri": "https://localhost:8080/"
        },
        "id": "4I8RplwssxfG",
        "outputId": "c7d345d2-24b9-45cb-ff41-bfc646465c97"
      },
      "execution_count": 362,
      "outputs": [
        {
          "output_type": "stream",
          "name": "stdout",
          "text": [
            "MAE 0.2365092815033439,\n",
            " MSE 0.10099866236282308,\n",
            " RMSE: 0.3178028671406586,\n",
            " R^2: 0.5924789378966506 \n",
            "MAE 0.26710680780963014,\n",
            " MSE 0.12332329165000906,\n",
            " RMSE: 0.3511741614213794,\n",
            " R^2: 0.49568629187650903 \n"
          ]
        }
      ]
    },
    {
      "cell_type": "markdown",
      "source": [
        "Not as good as the random forest model but this is less overfit and out perfromed the decsision tree model as well"
      ],
      "metadata": {
        "id": "RzaIXdHgswUW"
      }
    },
    {
      "cell_type": "markdown",
      "source": [
        "##KNN"
      ],
      "metadata": {
        "id": "nXt5Y1w_gtkp"
      }
    },
    {
      "cell_type": "code",
      "source": [
        "#creating knn model\n",
        "knn = KNeighborsRegressor()\n",
        "knnparam_grid = {'n_neighbors':range(1,11),\n",
        "                 'n_jobs':range(1,5)}"
      ],
      "metadata": {
        "id": "Vv8kV0E8Rtl_"
      },
      "execution_count": 363,
      "outputs": []
    },
    {
      "cell_type": "code",
      "source": [
        "#creating and fitting grid search to comb through the best depths for my model\n",
        "knn_grid_search = GridSearchCV(knn,knnparam_grid)\n",
        "knn_grid_pipe = make_pipeline(preprocessor,polyf,pca,knn_grid_search)\n",
        "knn_grid_pipe.fit(X_train,y_train)\n",
        "knn_grid_search.best_params_"
      ],
      "metadata": {
        "colab": {
          "base_uri": "https://localhost:8080/"
        },
        "id": "u9e8p9iAvZ8V",
        "outputId": "acf0ac97-4eba-4920-bb06-6ab215be6dce"
      },
      "execution_count": 364,
      "outputs": [
        {
          "output_type": "execute_result",
          "data": {
            "text/plain": [
              "{'n_jobs': 1, 'n_neighbors': 10}"
            ]
          },
          "metadata": {},
          "execution_count": 364
        }
      ]
    },
    {
      "cell_type": "code",
      "source": [
        "#creating new model based off cv\n",
        "knnbest = knn_grid_search.best_estimator_\n",
        "knnbest_pipe = make_pipeline(preprocessor,polyf,pca,knnbest)\n",
        "knnbest_pipe.fit(X_train,y_train)\n",
        "knnbest_train_preds = knnbest_pipe.predict(X_train)\n",
        "knnbest_test_preds = knnbest_pipe.predict(X_test)"
      ],
      "metadata": {
        "id": "p1sMQw7yvpsE"
      },
      "execution_count": 365,
      "outputs": []
    },
    {
      "cell_type": "code",
      "source": [
        "#determining metrics\n",
        "eval_regression(y_train,knnbest_train_preds)\n",
        "eval_regression(y_test,knnbest_test_preds)"
      ],
      "metadata": {
        "colab": {
          "base_uri": "https://localhost:8080/"
        },
        "id": "sn4uHetmv2qv",
        "outputId": "2e22ef7d-7a05-4605-f0c4-b97502b452ff"
      },
      "execution_count": 366,
      "outputs": [
        {
          "output_type": "stream",
          "name": "stdout",
          "text": [
            "MAE 0.2661337209302326,\n",
            " MSE 0.1235610465116279,\n",
            " RMSE: 0.35151251259610644,\n",
            " R^2: 0.5014416257501364 \n",
            "MAE 0.28391304347826085,\n",
            " MSE 0.1356086956521739,\n",
            " RMSE: 0.3682508596760826,\n",
            " R^2: 0.4454468150896723 \n"
          ]
        }
      ]
    },
    {
      "cell_type": "markdown",
      "source": [
        "Not too bad either. Altough not a particularly high r2 score its not very prone to large errors and is the least overfit of all the models, meaning it would perform better on new data than the others. This model seems the most well balanced"
      ],
      "metadata": {
        "id": "DsxrdW1nv-Xp"
      }
    },
    {
      "cell_type": "markdown",
      "source": [
        "#Conclusions"
      ],
      "metadata": {
        "id": "RN9M28saE-iw"
      }
    },
    {
      "cell_type": "markdown",
      "source": [
        "Of the above models I'de say it's between the random forest and knn. Both had low tendencies for errors and are farily close to each other with their train and test predictions. While all the random forest was not very error prone it is much more overfitted to the data than knn. Knn is the most well balanced allowing it to tackle newer data with fewer issues. While I appreciate the randomness that comes from the forest models they just didnt score as well on the metrics.\n",
        "\n",
        "If I were to choose which model to put into production i'de choose the knn model as it would prove more adapatable to changing circumstances and new data while maintaining a fair degree of predictive reliability."
      ],
      "metadata": {
        "id": "jUQ4DJXtFEPe"
      }
    },
    {
      "cell_type": "code",
      "source": [],
      "metadata": {
        "id": "QfziDnbnGr7e"
      },
      "execution_count": null,
      "outputs": []
    }
  ]
}